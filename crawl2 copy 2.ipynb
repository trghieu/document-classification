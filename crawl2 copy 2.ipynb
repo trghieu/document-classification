{
 "cells": [
  {
   "cell_type": "code",
   "execution_count": 1,
   "metadata": {},
   "outputs": [
    {
     "name": "stdout",
     "output_type": "stream",
     "text": [
      "c:\\Users\\trghuey\\venv\\Scripts\\python.exe\n"
     ]
    }
   ],
   "source": [
    "import sys\n",
    "print(sys.executable)"
   ]
  },
  {
   "cell_type": "code",
   "execution_count": null,
   "metadata": {},
   "outputs": [],
   "source": [
    "import numpy as np\n",
    "import pandas as pd\n",
    "from selenium import webdriver\n",
    "from selenium.webdriver.common.action_chains import ActionChains\n",
    "import chromedriver_autoinstaller\n",
    "from selenium.webdriver.common.by import By\n",
    "from bs4 import BeautifulSoup\n",
    "import time\n",
    "from cgitb import text\n",
    "from selenium.webdriver.support.ui import WebDriverWait\n",
    "from selenium.webdriver.support import expected_conditions as EC\n",
    "from asyncio.windows_events import NULL\n",
    "from selenium.common.exceptions import TimeoutException\n",
    "import csv\n",
    "from this import d\n",
    "import time"
   ]
  },
  {
   "cell_type": "code",
   "execution_count": 53,
   "metadata": {},
   "outputs": [],
   "source": [
    "url = 'https://vnexpress.net/category/day?cateid=1001005&fromdate=1652313600&todate=1655424000&allcate=1001005'\n",
    "url_page = '&page='\n",
    "page = 20\n",
    "link_href=[]\n",
    "\n",
    "chromedriver_autoinstaller.install()\n",
    "driver = webdriver.Chrome()"
   ]
  },
  {
   "cell_type": "code",
   "execution_count": 3,
   "metadata": {},
   "outputs": [],
   "source": [
    "# driver.get(url+url_page+str(1))\n",
    "# time.sleep(5)\n",
    "# driver.execute_script(\"window.scrollTo(0, document.body.scrollHeight)\")\n",
    "# time.sleep(5)\n",
    "# soup = BeautifulSoup(driver.page_source, 'html.parser')"
   ]
  },
  {
   "cell_type": "code",
   "execution_count": null,
   "metadata": {},
   "outputs": [],
   "source": [
    "# links_2 = soup.find_all('article',class_ = 'item-news item-news-common')\n",
    "# for link_news in links_2:\n",
    "#     links = link_news.find(class_ = 'thumb-art').find(class_= 'thumb thumb-5x3')\n",
    "#     link_href.append(links.get('href'))\n",
    "# link_href"
   ]
  },
  {
   "cell_type": "code",
   "execution_count": 54,
   "metadata": {},
   "outputs": [],
   "source": [
    "for i in range(1,(page+1)):\n",
    "    driver.get(url+url_page+str(i))\n",
    "    time.sleep(5)\n",
    "    driver.execute_script(\"window.scrollTo(0, document.body.scrollHeight)\")\n",
    "    time.sleep(5)\n",
    "    soup = BeautifulSoup(driver.page_source, 'html.parser')\n",
    "    # #   tin dau tien\n",
    "    # news1 = soup.find('article',class_ ='item-news full-thumb article-topstory').find(class_ = 'title-news').find('a')\n",
    "    # link_href.append(news1.get('href'))\n",
    "    # # 3 tin tiep theo\n",
    "    # links_1 = soup.find_all('article',class_ = 'article-item')\n",
    "    # for link_news in links_1:\n",
    "    #     links = link_news.find('a')\n",
    "    #     link_href.append(links.get('href'))\n",
    "    #tin con lai\n",
    "    links_2 = soup.find_all('article',class_ = 'item-news item-news-common')\n",
    "    for link_news in links_2:\n",
    "        links = link_news.find(class_ = 'thumb-art').find(class_= 'thumb thumb-5x3')\n",
    "        link_href.append(links.get('href'))\n",
    "    link_href"
   ]
  },
  {
   "cell_type": "code",
   "execution_count": 55,
   "metadata": {},
   "outputs": [
    {
     "data": {
      "text/plain": [
       "528"
      ]
     },
     "execution_count": 55,
     "metadata": {},
     "output_type": "execute_result"
    }
   ],
   "source": [
    "len(link_href)"
   ]
  },
  {
   "cell_type": "code",
   "execution_count": 56,
   "metadata": {},
   "outputs": [
    {
     "data": {
      "text/plain": [
       "<function TextIOWrapper.close()>"
      ]
     },
     "execution_count": 56,
     "metadata": {},
     "output_type": "execute_result"
    }
   ],
   "source": [
    "file = open('test_TXT.txt','a')\n",
    "for i in link_href:\n",
    "    file.writelines(i +'\\n')\n",
    "file.flush()\n",
    "file.close"
   ]
  },
  {
   "cell_type": "code",
   "execution_count": 57,
   "metadata": {},
   "outputs": [
    {
     "data": {
      "text/plain": [
       "528"
      ]
     },
     "execution_count": 57,
     "metadata": {},
     "output_type": "execute_result"
    }
   ],
   "source": [
    "len(link_href)"
   ]
  },
  {
   "cell_type": "code",
   "execution_count": 58,
   "metadata": {},
   "outputs": [
    {
     "data": {
      "text/plain": [
       "<function TextIOWrapper.close()>"
      ]
     },
     "execution_count": 58,
     "metadata": {},
     "output_type": "execute_result"
    }
   ],
   "source": [
    "file = open('Link_chinhtrixahoi.txt','a')\n",
    "for i in link_href:\n",
    "    file.writelines(i +'\\n')\n",
    "file.flush()\n",
    "file.close"
   ]
  }
 ],
 "metadata": {
  "kernelspec": {
   "display_name": "venv",
   "language": "python",
   "name": "python3"
  },
  "language_info": {
   "codemirror_mode": {
    "name": "ipython",
    "version": 3
   },
   "file_extension": ".py",
   "mimetype": "text/x-python",
   "name": "python",
   "nbconvert_exporter": "python",
   "pygments_lexer": "ipython3",
   "version": "3.9.13"
  },
  "orig_nbformat": 4
 },
 "nbformat": 4,
 "nbformat_minor": 2
}
