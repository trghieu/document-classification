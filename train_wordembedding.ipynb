{
 "cells": [
  {
   "cell_type": "code",
   "execution_count": 2,
   "metadata": {},
   "outputs": [],
   "source": [
    "import numpy as np\n",
    "import pandas as pd\n",
    "import os\n",
    "import re\n",
    "import time\n",
    "\n",
    "#from gensim.models import Word2Vec\n",
    "from tqdm import tqdm\n",
    "\n",
    "tqdm.pandas()\n",
    "from sklearn import model_selection, preprocessing, linear_model, naive_bayes, metrics, svm\n",
    "from sklearn.feature_extraction.text import TfidfVectorizer, CountVectorizer\n",
    "from sklearn import decomposition, ensemble\n",
    "\n",
    "import pandas, xgboost, numpy, textblob, string\n",
    "from keras.preprocessing import text, sequence\n",
    "from keras import layers, models, optimizers\n",
    "from keras.layers import *\n",
    "from pyvi import ViTokenizer, ViPosTagger\n",
    "from tqdm import tqdm\n",
    "import numpy as np\n",
    "import numpy as np\n",
    "import os\n",
    "import seaborn as sns\n",
    "import matplotlib.pyplot as plt\n",
    "import gensim"
   ]
  },
  {
   "cell_type": "code",
   "execution_count": 3,
   "metadata": {},
   "outputs": [],
   "source": [
    "def preprocessing(titles_array):\n",
    "    processed_array = []\n",
    "    for title in tqdm(titles_array):\n",
    "        processed = re.sub('[^a-zA-Z ]', '', title)\n",
    "        words = processed.split()\n",
    "        processed_array.append(' '.join([word for word in words if len(word) > 1]))\n",
    "    return processed_array"
   ]
  },
  {
   "cell_type": "code",
   "execution_count": 26,
   "metadata": {},
   "outputs": [
    {
     "name": "stderr",
     "output_type": "stream",
     "text": [
      "100%|██████████| 5181/5181 [01:59<00:00, 43.45it/s]\n",
      "100%|██████████| 4074/4074 [01:56<00:00, 35.09it/s]\n",
      "100%|██████████| 4481/4481 [01:38<00:00, 45.49it/s]\n",
      "100%|██████████| 4965/4965 [01:37<00:00, 51.09it/s]\n",
      "100%|██████████| 4976/4976 [02:08<00:00, 38.67it/s]\n",
      "100%|██████████| 4929/4929 [01:51<00:00, 44.03it/s]\n",
      "100%|██████████| 4702/4702 [02:01<00:00, 38.68it/s]\n",
      "100%|██████████| 5053/5053 [01:39<00:00, 50.69it/s]\n",
      "100%|██████████| 5627/5627 [01:31<00:00, 61.49it/s]\n",
      "100%|██████████| 4910/4910 [01:14<00:00, 65.87it/s]\n"
     ]
    }
   ],
   "source": [
    "dir_path = os.path.dirname(os.path.realpath(os.getcwd()))\n",
    "dir_path = os.path.join(dir_path, 'code')\n",
    "\n",
    "def get_data(folder_path):\n",
    "    X = []\n",
    "    y = []\n",
    "    dirs = os.listdir(folder_path)\n",
    "    for path in dirs:\n",
    "        file_paths = os.listdir(os.path.join(folder_path, path))\n",
    "        for file_path in tqdm(file_paths):\n",
    "            with open(os.path.join(folder_path, path, file_path), 'r', encoding=\"utf-8\") as f:\n",
    "                lines = f.readlines()\n",
    "                lines = ' '.join(lines)\n",
    "                lines = gensim.utils.simple_preprocess(lines)\n",
    "                lines = ' '.join(lines)\n",
    "                lines = ViTokenizer.tokenize(lines)\n",
    "# #                 sentence = ' '.join(words)\n",
    "# #                 print(lines)\n",
    "                X.append(lines)\n",
    "                y.append(path)\n",
    "#             break\n",
    "#         break\n",
    "    return X, y\n",
    "\n",
    "data = os.path.join(dir_path, 'data_links')\n",
    "X_data, y_data = get_data(data)"
   ]
  },
  {
   "cell_type": "code",
   "execution_count": 27,
   "metadata": {},
   "outputs": [
    {
     "name": "stdout",
     "output_type": "stream",
     "text": [
      "                                                    text          lable\n",
      "0      cháy căn_hộ toà nhà_tầng sài_gòn lửa cháy dữ_d...  Chinhtrixahoi\n",
      "1      chủ xe cá_nhân có_thể được xác_nhận điện_tử gi...  Chinhtrixahoi\n",
      "2      không xây bãi xe_ngầm tầng sân golf trung_tâm ...  Chinhtrixahoi\n",
      "3      bộ_đội việt_nam phát_hiện vị_trí có dấu_hiệu s...  Chinhtrixahoi\n",
      "4      vì sao đường võ chí công chưa hoàn_thành xe_kh...  Chinhtrixahoi\n",
      "...                                                  ...            ...\n",
      "48893  hlv srimaka thái lan không có đối_thủ sea game...        Thethao\n",
      "48894  cụ ông tuổi nước_rút ngoạn_mục để vô_địch thế_...        Thethao\n",
      "48895  cầu_thủ indonesia khóc vì mất quyền dự world_c...        Thethao\n",
      "48896  alcaraz_đấu sinner bán_kết miami open mỹcarlos...        Thethao\n",
      "48897  rooney dự_đoán man city vô_địch ngoại_hạng anh...        Thethao\n",
      "\n",
      "[48898 rows x 2 columns]\n"
     ]
    }
   ],
   "source": [
    "df = pd.DataFrame(list(zip(X_data, y_data)), columns = ['text', 'lable'])  \n",
    "print(df) "
   ]
  },
  {
   "cell_type": "code",
   "execution_count": 28,
   "metadata": {},
   "outputs": [
    {
     "name": "stderr",
     "output_type": "stream",
     "text": [
      "100%|██████████| 48898/48898 [00:12<00:00, 3827.89it/s]\n"
     ]
    }
   ],
   "source": [
    "sentences = df.text\n",
    "train_sentences = list(sentences.progress_apply(str.split).values)"
   ]
  },
  {
   "cell_type": "code",
   "execution_count": 29,
   "metadata": {},
   "outputs": [],
   "source": [
    "from gensim.models import Word2Vec"
   ]
  },
  {
   "cell_type": "code",
   "execution_count": 30,
   "metadata": {},
   "outputs": [],
   "source": [
    "model = Word2Vec(sentences=train_sentences,vector_size=300, window = 5, min_count=1,sg =0)"
   ]
  },
  {
   "cell_type": "code",
   "execution_count": 33,
   "metadata": {},
   "outputs": [
    {
     "name": "stdout",
     "output_type": "stream",
     "text": [
      "Word2Vec<vocab=137183, vector_size=300, alpha=0.025>\n"
     ]
    }
   ],
   "source": [
    "print(model)"
   ]
  },
  {
   "cell_type": "code",
   "execution_count": 36,
   "metadata": {},
   "outputs": [
    {
     "name": "stdout",
     "output_type": "stream",
     "text": [
      "[ 7.61486948e-01  1.41530514e+00 -7.81760335e-01  2.12788153e+00\n",
      " -1.75395322e+00 -4.07722622e-01  7.30245411e-01  1.41923273e+00\n",
      "  1.47786653e+00  1.17540038e+00  2.71774411e-01  4.64735150e-01\n",
      " -1.65778124e+00 -2.34992313e+00  1.52502382e+00  1.22040796e+00\n",
      "  1.71408963e+00 -2.42247552e-01 -6.79628909e-01  6.16010725e-01\n",
      "  1.89083964e-02  8.13425124e-01  7.31673062e-01 -7.84103632e-01\n",
      "  1.76645949e-01 -1.17187774e+00 -2.80531693e+00  1.08900344e+00\n",
      "  1.23941791e+00  4.82945293e-01  1.14872193e+00 -2.08335966e-01\n",
      "  9.61561620e-01  5.34307301e-01  1.19219577e+00  7.99144506e-01\n",
      " -1.36905456e+00 -1.00851679e+00 -1.10139215e+00 -3.14895660e-01\n",
      "  1.20538187e+00 -4.97435719e-01  2.52672940e-01  1.08726501e+00\n",
      " -2.88013756e-01  1.73277533e+00  4.26525921e-01  1.14331055e+00\n",
      "  1.89682293e+00  1.00279868e+00  2.17905998e+00  3.20573044e+00\n",
      " -1.57839596e+00 -7.88827956e-01  1.69167769e+00  4.13214266e-01\n",
      " -1.44445252e+00 -1.25437045e+00 -4.83265847e-01 -1.73683751e+00\n",
      " -2.23928541e-01 -9.56132233e-01  8.03945124e-01  4.23444629e-01\n",
      " -1.94273770e+00 -1.25832438e+00 -1.53030431e+00  8.48862603e-02\n",
      "  1.77795124e+00 -1.81445941e-01 -3.48187923e-01 -2.44783711e+00\n",
      " -3.02850127e-01 -6.78743541e-01  3.18178773e-01  2.44973525e-01\n",
      "  1.20408082e+00 -6.62217513e-02  2.44334745e+00 -3.94307643e-01\n",
      " -9.69178379e-01  1.14283907e+00  1.74924016e+00 -1.89360261e-01\n",
      " -3.64229798e-01  5.49473524e-01 -6.19487166e-01 -7.84320295e-01\n",
      " -3.46954256e-01  1.44549954e+00  7.69070506e-01  1.30765676e+00\n",
      "  1.74193656e+00 -1.15601325e+00  1.01646725e-02 -1.33823013e+00\n",
      " -7.70311773e-01  5.33854701e-02  8.67608190e-01 -2.17083263e+00\n",
      " -2.20581818e+00 -1.10078737e-01 -7.46929705e-01  9.47549865e-02\n",
      "  1.02176344e+00  7.96666928e-03  1.80885434e+00 -9.91760731e-01\n",
      "  2.13734493e-01 -1.27069378e+00  1.19941041e-01  9.35877860e-01\n",
      " -9.78740633e-01 -1.78495157e+00  1.90140975e+00 -8.32931459e-01\n",
      " -1.08084142e+00  4.82088834e-01 -8.05066824e-01  1.05686378e+00\n",
      "  4.65429015e-02  1.10733581e+00  3.28924209e-01  2.36827493e+00\n",
      " -6.33538902e-01 -1.66742516e+00  9.36687231e-01 -4.81989592e-01\n",
      " -6.59496844e-01 -2.59179413e-01 -7.32400194e-02 -1.16074443e+00\n",
      "  3.52567434e-01  1.48115849e+00  1.23415315e+00 -1.80779350e+00\n",
      "  3.26408178e-01 -1.31199968e+00  2.95691156e+00 -1.11822367e+00\n",
      " -3.34153461e+00 -1.26377925e-01 -8.09793115e-01  1.81166422e+00\n",
      " -5.44074714e-01  1.31451404e+00  1.58978713e+00  1.04655087e+00\n",
      " -6.45467401e-01 -4.00358550e-02 -1.08713038e-01  1.00237262e+00\n",
      "  1.68482852e+00 -1.03422737e+00 -3.56100768e-01  9.94664609e-01\n",
      "  6.77463889e-01  4.40215260e-01 -4.51409668e-01 -1.65359244e-01\n",
      " -5.42638600e-01 -8.16457212e-01 -6.50854483e-02 -8.63161683e-01\n",
      " -2.43857980e-01  1.80075586e+00 -1.19427431e+00  1.72586334e+00\n",
      "  1.23078227e+00 -6.89769313e-02 -6.92609429e-01 -2.22199011e+00\n",
      " -2.38406682e+00  2.60505587e-01  6.93474174e-01 -1.73565221e+00\n",
      " -2.38290572e+00  1.02011263e+00 -1.94121397e+00 -9.51787233e-01\n",
      "  9.19879973e-01 -5.78864850e-03  1.84148267e-01  1.76175535e+00\n",
      "  1.59073627e+00  2.19564700e+00 -6.59425974e-01  1.14072382e+00\n",
      " -1.24683082e+00 -2.11095881e+00  1.51607692e+00 -1.89336765e+00\n",
      "  3.76296377e+00 -1.28196192e+00 -5.76084852e-01 -8.49024832e-01\n",
      "  2.20244125e-01 -5.25761664e-01  1.88734889e+00 -1.35466278e+00\n",
      "  1.65283784e-01 -6.21388435e-01 -2.70559669e-01  1.08988190e+00\n",
      " -9.49368358e-01 -3.68537247e-01 -5.19862771e-01 -8.45613718e-01\n",
      " -1.27496231e+00 -3.10407430e-01 -1.13016284e+00  1.87787259e+00\n",
      "  7.55396783e-01 -3.00578624e-01  1.25867784e+00 -1.05976135e-01\n",
      " -1.48880494e+00  6.74972534e-01 -2.99547523e-01  1.00927997e+00\n",
      " -1.47778526e-01  2.99315512e-01 -1.09366362e-03  2.20273399e+00\n",
      "  1.03507018e+00  1.88233805e+00 -8.36526379e-02  1.04705930e+00\n",
      " -7.69671261e-01  1.80459726e+00  7.81014115e-02  1.05762637e+00\n",
      "  3.56696993e-01  8.77709746e-01 -2.97447257e-02  2.35924554e+00\n",
      " -2.29061317e+00  2.69561652e-02 -2.61944127e+00 -1.88961196e+00\n",
      "  7.08443761e-01  1.11632466e+00  6.70781791e-01  2.18356299e+00\n",
      " -1.23659670e-01 -1.39104688e+00 -1.20052195e+00 -1.29119062e+00\n",
      " -4.73410457e-01  3.44545960e-01 -1.93333542e+00 -9.74629521e-01\n",
      " -2.30965638e+00 -1.59998500e+00 -1.25242817e+00  8.71468127e-01\n",
      " -1.70121983e-01  6.65466860e-02 -3.11545610e+00  1.13145553e-01\n",
      " -3.34097296e-01  1.54023576e+00  9.59688127e-01  3.11806536e+00\n",
      "  2.38675404e+00  1.67245209e+00  2.04494429e+00  1.24541884e-02\n",
      "  1.98626637e-01  6.11761987e-01  7.18801379e-01  4.37762052e-01\n",
      "  6.30309939e-01  2.36950144e-02 -1.62716031e+00 -1.85354315e-02\n",
      "  9.10098016e-01  1.18488228e+00  9.23747197e-02 -8.67456913e-01\n",
      "  2.03853682e-01 -1.28229082e+00 -2.39354938e-01 -1.15273274e-01\n",
      "  2.41120076e+00 -8.47699344e-01 -9.89984632e-01  7.46122122e-01\n",
      "  6.45900607e-01 -4.67023134e-01 -1.19013824e-01 -3.00493073e+00\n",
      "  2.95555639e+00 -2.32194543e+00 -8.23266864e-01  1.84884071e-01\n",
      " -1.49083281e+00 -1.28820825e+00  8.61618698e-01  2.37389851e+00]\n"
     ]
    }
   ],
   "source": [
    "print(model.wv['trung'])"
   ]
  },
  {
   "cell_type": "code",
   "execution_count": null,
   "metadata": {},
   "outputs": [],
   "source": [
    "model.save('W2Vmodel.bin')"
   ]
  }
 ],
 "metadata": {
  "kernelspec": {
   "display_name": "venv",
   "language": "python",
   "name": "python3"
  },
  "language_info": {
   "codemirror_mode": {
    "name": "ipython",
    "version": 3
   },
   "file_extension": ".py",
   "mimetype": "text/x-python",
   "name": "python",
   "nbconvert_exporter": "python",
   "pygments_lexer": "ipython3",
   "version": "3.9.13"
  },
  "orig_nbformat": 4
 },
 "nbformat": 4,
 "nbformat_minor": 2
}
