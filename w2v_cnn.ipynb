{
 "cells": [
  {
   "cell_type": "code",
   "execution_count": 1,
   "metadata": {},
   "outputs": [],
   "source": [
    "import gensim\n",
    "import os\n",
    "from distutils.version import LooseVersion, StrictVersion\n",
    "import pandas as pd\n",
    "import numpy as np\n",
    "import matplotlib.pyplot as plt\n",
    "from sklearn.model_selection import train_test_split\n",
    "import sklearn.neighbors\n",
    "from sklearn.neighbors import KNeighborsClassifier\n",
    "from sklearn import metrics\n",
    "import re"
   ]
  },
  {
   "cell_type": "code",
   "execution_count": 2,
   "metadata": {},
   "outputs": [],
   "source": [
    "from gensim.models import Word2Vec"
   ]
  },
  {
   "cell_type": "code",
   "execution_count": 3,
   "metadata": {},
   "outputs": [],
   "source": [
    "modelwv = Word2Vec.load(\"W2Vmodel.bin\")"
   ]
  },
  {
   "cell_type": "code",
   "execution_count": 4,
   "metadata": {},
   "outputs": [
    {
     "name": "stdout",
     "output_type": "stream",
     "text": [
      "[ 6.26405001e-01  1.74230742e+00  3.39452446e-01  1.61769605e+00\n",
      "  1.24599099e+00 -2.02257950e-02  5.18159628e-01  1.30082703e+00\n",
      " -2.85692406e+00 -3.14036727e+00  2.32057047e+00  3.97005647e-01\n",
      " -9.05862093e-01 -3.42936611e+00 -1.82856247e-01 -6.39763594e-01\n",
      " -1.15834877e-01  2.95627415e-01 -2.05692124e+00 -2.60721350e+00\n",
      "  5.18661976e-01  9.42185879e-01  1.13166952e+00  7.10537955e-02\n",
      " -8.10626328e-01  7.83423986e-03 -9.31980275e-03  1.07196820e+00\n",
      "  4.08221900e-01  8.40779722e-01 -1.13034034e+00  4.34210688e-01\n",
      "  1.75909960e+00 -7.35302746e-01  4.71670330e-01 -3.96348417e-01\n",
      " -2.99143600e+00  5.01955152e-01  1.88820612e+00  3.34713534e-02\n",
      " -1.44530201e+00 -7.11900771e-01  1.67841315e-01  1.07969336e-01\n",
      " -1.47908533e+00  1.09683120e+00  6.96572736e-02  1.01172078e+00\n",
      " -1.86869586e+00 -6.56652749e-01  2.12696418e-01  6.86233938e-01\n",
      "  2.24882865e+00 -8.96076500e-01  6.48067236e-01 -6.34592056e-01\n",
      " -4.80282992e-01  8.45142186e-01 -4.42703635e-01 -8.92698944e-01\n",
      " -1.40377712e+00  2.96891832e+00  1.08343554e+00 -3.73798728e-01\n",
      "  6.60858929e-01 -8.24522853e-01 -1.03828478e+00 -6.32650554e-02\n",
      "  5.83500564e-01  1.51691064e-01  1.66889334e+00 -1.10859919e+00\n",
      " -1.95675468e+00 -2.52974272e+00  1.39199600e-01  1.05766642e+00\n",
      "  1.97497225e+00  3.75558943e-01 -1.94176996e+00 -8.19669008e-01\n",
      "  2.03441143e+00 -7.71079659e-01  9.43791330e-01  7.00493932e-01\n",
      " -1.88487208e+00  2.91007447e+00  4.50562507e-01  1.66995394e+00\n",
      "  4.53401655e-01 -6.72676861e-01  7.65157759e-01  8.31543922e-01\n",
      "  1.06938851e+00 -3.77460569e-01  1.14581883e+00 -1.85643816e+00\n",
      " -2.77724653e-01 -1.35448837e+00 -1.57935119e+00 -6.95940375e-01\n",
      " -1.82766274e-01  1.10617924e+00  1.15955397e-01 -1.74803603e+00\n",
      "  1.25056660e+00 -5.08403242e-01 -9.63444650e-01 -1.11344814e+00\n",
      "  6.80936575e-01 -4.91636157e-01  9.53703076e-02  1.00127864e+00\n",
      "  1.19420707e+00 -1.66861010e+00  2.57531357e+00 -2.52097511e+00\n",
      " -5.31246543e-01  3.74922395e-01 -8.88809204e-01 -2.14373231e+00\n",
      "  3.43444061e+00  2.28337502e+00 -6.08611286e-01  7.15784371e-01\n",
      "  1.51053369e+00  1.32963061e+00 -3.10441226e-01 -5.28827071e-01\n",
      " -1.06444979e+00 -1.85141122e+00  1.22027540e+00 -1.08226180e+00\n",
      " -1.39296436e+00  1.40511465e+00  5.12355626e-01 -2.14271784e+00\n",
      " -4.53409553e-01  1.38654733e+00  1.41579866e+00  2.79486275e+00\n",
      " -2.19512224e+00  1.04950821e+00 -2.01287150e+00  7.58872747e-01\n",
      " -6.10647619e-01 -1.15006089e+00  3.49305391e-01  7.86463991e-02\n",
      " -1.62273002e+00  1.08152461e+00 -3.37456971e-01 -1.12109840e-01\n",
      " -1.91743255e+00 -6.33356392e-01 -4.75079753e-02  1.00262845e+00\n",
      " -1.32686913e+00 -4.81731504e-01 -8.95302370e-02 -1.33804977e+00\n",
      "  4.21784431e-01  2.17589116e+00  9.85850036e-01 -2.22694486e-01\n",
      " -7.74672702e-02  1.13368404e+00 -1.12116802e+00 -9.48143661e-01\n",
      "  7.90586829e-01  1.05062258e+00 -8.74221981e-01 -1.09540844e+00\n",
      " -1.87937009e+00 -9.99280274e-01  1.64851427e+00 -3.55857387e-02\n",
      " -1.38294506e+00  7.75856435e-01 -7.10718930e-01  6.31019831e-01\n",
      " -1.58835220e+00 -1.18699276e+00  1.20692468e+00  2.18311357e+00\n",
      " -1.47205007e+00 -1.75500715e+00  7.82267928e-01  1.01293278e+00\n",
      "  9.41800356e-01 -7.76326284e-02  4.09117341e-01 -2.67127323e+00\n",
      "  5.36770999e-01  1.48799980e+00 -1.00221768e-01  7.09684908e-01\n",
      "  1.19513345e+00 -8.53992462e-01 -1.79295763e-01 -1.04448998e+00\n",
      "  2.35784912e+00  2.95212045e-02  1.54443294e-01 -6.84907973e-01\n",
      "  4.43618894e-01  1.02274843e-01 -1.78798628e+00  2.05229783e+00\n",
      " -3.27572703e+00  3.58765483e-01 -1.01915753e+00  2.93342042e+00\n",
      "  8.14976990e-01  1.06066203e+00  1.15342295e+00 -8.24275315e-02\n",
      "  2.47449827e+00 -7.66819656e-01 -1.98466814e+00 -3.72793198e-01\n",
      " -3.79325032e-01 -6.16234064e-01  2.08650613e+00  9.59902883e-01\n",
      " -1.95155263e-01  2.47996473e+00 -2.11018777e+00  3.66388679e-01\n",
      "  3.69542718e-01 -8.83465886e-01 -1.22402513e+00 -1.05862248e+00\n",
      " -1.30382502e+00 -6.60264969e-01  1.38563526e+00  2.46905267e-01\n",
      "  1.00466168e+00  1.26193643e+00  2.99778789e-01 -1.10961489e-01\n",
      "  1.38361561e+00  2.78938866e+00  1.06908727e+00  1.95048606e+00\n",
      " -6.20226748e-02  1.27978623e+00 -5.06551266e-01 -6.76715791e-01\n",
      "  1.87201768e-01  5.12935035e-02 -1.35533184e-01 -9.12783384e-01\n",
      " -1.97186136e+00 -1.16820145e+00 -1.21209371e+00 -1.02625692e+00\n",
      "  1.05943775e+00 -8.84281879e-04  8.84665668e-01 -4.08068020e-03\n",
      "  4.00176167e-01  7.18305647e-01 -1.37945497e+00  1.19431877e+00\n",
      " -1.52958202e+00  8.80273521e-01  4.27397907e-01  3.68405223e-01\n",
      "  2.51860470e-01  9.45527613e-01 -3.91736448e-01 -4.28946555e-01\n",
      " -1.16538391e-01  3.40585470e-01  2.72370076e+00  6.07428402e-02\n",
      "  7.46465206e-01  4.51790035e-01 -2.19246641e-01  8.33158195e-01\n",
      "  7.39495337e-01 -3.32582742e-02 -7.99341381e-01  3.45694572e-01\n",
      "  2.89809632e+00  1.33890903e+00 -1.74578929e+00  2.33119056e-01\n",
      "  1.03539670e+00 -5.18318892e-01  1.17394495e+00 -1.40271509e+00\n",
      "  1.09991205e+00 -4.14016277e-01  1.19833243e+00  4.12016124e-01\n",
      " -1.02457309e+00 -8.49574134e-02  1.19473565e+00  2.21474028e+00]\n"
     ]
    }
   ],
   "source": [
    "print(modelwv.wv['việt_nam'])"
   ]
  },
  {
   "cell_type": "code",
   "execution_count": 5,
   "metadata": {},
   "outputs": [
    {
     "data": {
      "text/plain": [
       "[('hàn_quốc', 0.5629851222038269),\n",
       " ('campuchia', 0.5471175909042358),\n",
       " ('việt', 0.5427928566932678),\n",
       " ('singapore', 0.491588294506073),\n",
       " ('asean', 0.49015307426452637)]"
      ]
     },
     "execution_count": 5,
     "metadata": {},
     "output_type": "execute_result"
    }
   ],
   "source": [
    "modelwv.wv.most_similar('việt_nam', topn=5)"
   ]
  },
  {
   "cell_type": "code",
   "execution_count": 6,
   "metadata": {},
   "outputs": [
    {
     "data": {
      "text/plain": [
       "137183"
      ]
     },
     "execution_count": 6,
     "metadata": {},
     "output_type": "execute_result"
    }
   ],
   "source": [
    "len(modelwv.wv)"
   ]
  },
  {
   "cell_type": "code",
   "execution_count": 7,
   "metadata": {},
   "outputs": [],
   "source": [
    "data = pd.read_csv('data_after.csv')"
   ]
  },
  {
   "cell_type": "code",
   "execution_count": 8,
   "metadata": {},
   "outputs": [
    {
     "data": {
      "text/html": [
       "<div>\n",
       "<style scoped>\n",
       "    .dataframe tbody tr th:only-of-type {\n",
       "        vertical-align: middle;\n",
       "    }\n",
       "\n",
       "    .dataframe tbody tr th {\n",
       "        vertical-align: top;\n",
       "    }\n",
       "\n",
       "    .dataframe thead th {\n",
       "        text-align: right;\n",
       "    }\n",
       "</style>\n",
       "<table border=\"1\" class=\"dataframe\">\n",
       "  <thead>\n",
       "    <tr style=\"text-align: right;\">\n",
       "      <th></th>\n",
       "      <th>Unnamed: 0</th>\n",
       "      <th>text</th>\n",
       "      <th>lable</th>\n",
       "      <th>word_length</th>\n",
       "    </tr>\n",
       "  </thead>\n",
       "  <tbody>\n",
       "    <tr>\n",
       "      <th>0</th>\n",
       "      <td>0</td>\n",
       "      <td>cháy căn_hộ nhà_tầng sài_gòn lửa cháy dữ_dội c...</td>\n",
       "      <td>Chinhtrixahoi</td>\n",
       "      <td>179</td>\n",
       "    </tr>\n",
       "    <tr>\n",
       "      <th>1</th>\n",
       "      <td>1</td>\n",
       "      <td>chủ xe cá_nhân có_thể xác_nhận điện_tử giãn ch...</td>\n",
       "      <td>Chinhtrixahoi</td>\n",
       "      <td>283</td>\n",
       "    </tr>\n",
       "    <tr>\n",
       "      <th>2</th>\n",
       "      <td>2</td>\n",
       "      <td>xây bãi xe_ngầm tầng sân golf trung_tâm đà lạt...</td>\n",
       "      <td>Chinhtrixahoi</td>\n",
       "      <td>207</td>\n",
       "    </tr>\n",
       "    <tr>\n",
       "      <th>3</th>\n",
       "      <td>3</td>\n",
       "      <td>bộ_đội việt_nam phát_hiện vị_trí dấu_hiệu sống...</td>\n",
       "      <td>Chinhtrixahoi</td>\n",
       "      <td>260</td>\n",
       "    </tr>\n",
       "    <tr>\n",
       "      <th>4</th>\n",
       "      <td>4</td>\n",
       "      <td>đường võ chí công hoàn_thành xe_khách chạy quả...</td>\n",
       "      <td>Chinhtrixahoi</td>\n",
       "      <td>527</td>\n",
       "    </tr>\n",
       "  </tbody>\n",
       "</table>\n",
       "</div>"
      ],
      "text/plain": [
       "   Unnamed: 0                                               text  \\\n",
       "0           0  cháy căn_hộ nhà_tầng sài_gòn lửa cháy dữ_dội c...   \n",
       "1           1  chủ xe cá_nhân có_thể xác_nhận điện_tử giãn ch...   \n",
       "2           2  xây bãi xe_ngầm tầng sân golf trung_tâm đà lạt...   \n",
       "3           3  bộ_đội việt_nam phát_hiện vị_trí dấu_hiệu sống...   \n",
       "4           4  đường võ chí công hoàn_thành xe_khách chạy quả...   \n",
       "\n",
       "           lable  word_length  \n",
       "0  Chinhtrixahoi          179  \n",
       "1  Chinhtrixahoi          283  \n",
       "2  Chinhtrixahoi          207  \n",
       "3  Chinhtrixahoi          260  \n",
       "4  Chinhtrixahoi          527  "
      ]
     },
     "execution_count": 8,
     "metadata": {},
     "output_type": "execute_result"
    }
   ],
   "source": [
    "data.head()"
   ]
  },
  {
   "cell_type": "code",
   "execution_count": 9,
   "metadata": {},
   "outputs": [
    {
     "data": {
      "text/plain": [
       "137183"
      ]
     },
     "execution_count": 9,
     "metadata": {},
     "output_type": "execute_result"
    }
   ],
   "source": [
    "len(modelwv.wv)"
   ]
  },
  {
   "cell_type": "code",
   "execution_count": 10,
   "metadata": {},
   "outputs": [],
   "source": [
    "vocab=list(modelwv.wv.index_to_key)"
   ]
  },
  {
   "cell_type": "code",
   "execution_count": 11,
   "metadata": {},
   "outputs": [
    {
     "name": "stdout",
     "output_type": "stream",
     "text": [
      "The no of key-value pairs :  137183\n"
     ]
    }
   ],
   "source": [
    "word_vec_dict={}\n",
    "for word in vocab:\n",
    "  word_vec_dict[word]=modelwv.wv[word]\n",
    "print(\"The no of key-value pairs : \",len(word_vec_dict))"
   ]
  },
  {
   "cell_type": "code",
   "execution_count": 12,
   "metadata": {},
   "outputs": [
    {
     "name": "stdout",
     "output_type": "stream",
     "text": [
      "3677\n"
     ]
    }
   ],
   "source": [
    "maxi=-1\n",
    "for i,rev in enumerate(data['text']):\n",
    "    tokens=rev.split()\n",
    "    if(len(tokens)>maxi):\n",
    "        maxi=len(tokens)\n",
    "print(maxi)"
   ]
  },
  {
   "cell_type": "code",
   "execution_count": 13,
   "metadata": {},
   "outputs": [
    {
     "data": {
      "text/html": [
       "<div>\n",
       "<style scoped>\n",
       "    .dataframe tbody tr th:only-of-type {\n",
       "        vertical-align: middle;\n",
       "    }\n",
       "\n",
       "    .dataframe tbody tr th {\n",
       "        vertical-align: top;\n",
       "    }\n",
       "\n",
       "    .dataframe thead th {\n",
       "        text-align: right;\n",
       "    }\n",
       "</style>\n",
       "<table border=\"1\" class=\"dataframe\">\n",
       "  <thead>\n",
       "    <tr style=\"text-align: right;\">\n",
       "      <th></th>\n",
       "      <th>Unnamed: 0</th>\n",
       "      <th>text</th>\n",
       "      <th>lable</th>\n",
       "      <th>word_length</th>\n",
       "      <th>new_lable</th>\n",
       "    </tr>\n",
       "  </thead>\n",
       "  <tbody>\n",
       "    <tr>\n",
       "      <th>0</th>\n",
       "      <td>0</td>\n",
       "      <td>cháy căn_hộ nhà_tầng sài_gòn lửa cháy dữ_dội c...</td>\n",
       "      <td>Chinhtrixahoi</td>\n",
       "      <td>179</td>\n",
       "      <td>0</td>\n",
       "    </tr>\n",
       "    <tr>\n",
       "      <th>1</th>\n",
       "      <td>1</td>\n",
       "      <td>chủ xe cá_nhân có_thể xác_nhận điện_tử giãn ch...</td>\n",
       "      <td>Chinhtrixahoi</td>\n",
       "      <td>283</td>\n",
       "      <td>0</td>\n",
       "    </tr>\n",
       "    <tr>\n",
       "      <th>2</th>\n",
       "      <td>2</td>\n",
       "      <td>xây bãi xe_ngầm tầng sân golf trung_tâm đà lạt...</td>\n",
       "      <td>Chinhtrixahoi</td>\n",
       "      <td>207</td>\n",
       "      <td>0</td>\n",
       "    </tr>\n",
       "    <tr>\n",
       "      <th>3</th>\n",
       "      <td>3</td>\n",
       "      <td>bộ_đội việt_nam phát_hiện vị_trí dấu_hiệu sống...</td>\n",
       "      <td>Chinhtrixahoi</td>\n",
       "      <td>260</td>\n",
       "      <td>0</td>\n",
       "    </tr>\n",
       "    <tr>\n",
       "      <th>4</th>\n",
       "      <td>4</td>\n",
       "      <td>đường võ chí công hoàn_thành xe_khách chạy quả...</td>\n",
       "      <td>Chinhtrixahoi</td>\n",
       "      <td>527</td>\n",
       "      <td>0</td>\n",
       "    </tr>\n",
       "    <tr>\n",
       "      <th>...</th>\n",
       "      <td>...</td>\n",
       "      <td>...</td>\n",
       "      <td>...</td>\n",
       "      <td>...</td>\n",
       "      <td>...</td>\n",
       "    </tr>\n",
       "    <tr>\n",
       "      <th>44605</th>\n",
       "      <td>48893</td>\n",
       "      <td>hlv srimaka thái lan đối_thủ sea games hlv wor...</td>\n",
       "      <td>Thethao</td>\n",
       "      <td>194</td>\n",
       "      <td>9</td>\n",
       "    </tr>\n",
       "    <tr>\n",
       "      <th>44606</th>\n",
       "      <td>48894</td>\n",
       "      <td>cụ nước_rút ngoạn_mục vô_địch thế_giới lanvđv ...</td>\n",
       "      <td>Thethao</td>\n",
       "      <td>187</td>\n",
       "      <td>9</td>\n",
       "    </tr>\n",
       "    <tr>\n",
       "      <th>44607</th>\n",
       "      <td>48895</td>\n",
       "      <td>cầu_thủ indonesia khóc quyền dự world_cup indo...</td>\n",
       "      <td>Thethao</td>\n",
       "      <td>239</td>\n",
       "      <td>9</td>\n",
       "    </tr>\n",
       "    <tr>\n",
       "      <th>44608</th>\n",
       "      <td>48896</td>\n",
       "      <td>alcaraz_đấu sinner bán_kết miami open mỹcarlos...</td>\n",
       "      <td>Thethao</td>\n",
       "      <td>191</td>\n",
       "      <td>9</td>\n",
       "    </tr>\n",
       "    <tr>\n",
       "      <th>44609</th>\n",
       "      <td>48897</td>\n",
       "      <td>rooney dự_đoán man city vô_địch ngoại_hạng anh...</td>\n",
       "      <td>Thethao</td>\n",
       "      <td>157</td>\n",
       "      <td>9</td>\n",
       "    </tr>\n",
       "  </tbody>\n",
       "</table>\n",
       "<p>44610 rows × 5 columns</p>\n",
       "</div>"
      ],
      "text/plain": [
       "       Unnamed: 0                                               text  \\\n",
       "0               0  cháy căn_hộ nhà_tầng sài_gòn lửa cháy dữ_dội c...   \n",
       "1               1  chủ xe cá_nhân có_thể xác_nhận điện_tử giãn ch...   \n",
       "2               2  xây bãi xe_ngầm tầng sân golf trung_tâm đà lạt...   \n",
       "3               3  bộ_đội việt_nam phát_hiện vị_trí dấu_hiệu sống...   \n",
       "4               4  đường võ chí công hoàn_thành xe_khách chạy quả...   \n",
       "...           ...                                                ...   \n",
       "44605       48893  hlv srimaka thái lan đối_thủ sea games hlv wor...   \n",
       "44606       48894  cụ nước_rút ngoạn_mục vô_địch thế_giới lanvđv ...   \n",
       "44607       48895  cầu_thủ indonesia khóc quyền dự world_cup indo...   \n",
       "44608       48896  alcaraz_đấu sinner bán_kết miami open mỹcarlos...   \n",
       "44609       48897  rooney dự_đoán man city vô_địch ngoại_hạng anh...   \n",
       "\n",
       "               lable  word_length  new_lable  \n",
       "0      Chinhtrixahoi          179          0  \n",
       "1      Chinhtrixahoi          283          0  \n",
       "2      Chinhtrixahoi          207          0  \n",
       "3      Chinhtrixahoi          260          0  \n",
       "4      Chinhtrixahoi          527          0  \n",
       "...              ...          ...        ...  \n",
       "44605        Thethao          194          9  \n",
       "44606        Thethao          187          9  \n",
       "44607        Thethao          239          9  \n",
       "44608        Thethao          191          9  \n",
       "44609        Thethao          157          9  \n",
       "\n",
       "[44610 rows x 5 columns]"
      ]
     },
     "execution_count": 13,
     "metadata": {},
     "output_type": "execute_result"
    }
   ],
   "source": [
    "import pandas as pd\n",
    "import numpy as np\n",
    "from sklearn.preprocessing import LabelEncoder\n",
    "lable_types = ('Chinhtrixahoi','Doisong','Khoahoc','Kinhdoanh','Phapluat','Suckhoe','Thegioi','Thethao','Giaitri','Sohoa')\n",
    "lable_df = pd.DataFrame(lable_types, columns=['lable'])\n",
    "labelencoder = LabelEncoder()\n",
    "data['new_lable'] = labelencoder.fit_transform(data['lable'])\n",
    "data"
   ]
  },
  {
   "cell_type": "code",
   "execution_count": 14,
   "metadata": {},
   "outputs": [],
   "source": [
    "import keras\n",
    "from keras.preprocessing.text import one_hot,Tokenizer\n",
    "from keras_preprocessing.sequence import pad_sequences\n",
    "from sklearn.model_selection import train_test_split,cross_validate\n",
    "from keras.models import Sequential\n",
    "from keras.layers import Dense , Flatten ,Embedding,Input,CuDNNLSTM,LSTM\n",
    "from keras.models import Model\n",
    "from keras.preprocessing.text import text_to_word_sequence"
   ]
  },
  {
   "cell_type": "code",
   "execution_count": 15,
   "metadata": {},
   "outputs": [],
   "source": [
    "tok = Tokenizer()\n",
    "tok.fit_on_texts(data['text'])\n",
    "vocab_size = len(tok.word_index) + 1\n",
    "encd_rev = tok.texts_to_sequences(data['text'])"
   ]
  },
  {
   "cell_type": "code",
   "execution_count": 16,
   "metadata": {},
   "outputs": [
    {
     "data": {
      "text/plain": [
       "87767"
      ]
     },
     "execution_count": 16,
     "metadata": {},
     "output_type": "execute_result"
    }
   ],
   "source": [
    "vocab_size"
   ]
  },
  {
   "cell_type": "code",
   "execution_count": 17,
   "metadata": {},
   "outputs": [],
   "source": [
    "max_rev_len=3677  # max lenght of a review\n",
    "vocab_size = len(tok.word_index) + 1  # total no of words\n",
    "embed_dim=300 # embedding dimension as choosen in word2vec constructor"
   ]
  },
  {
   "cell_type": "code",
   "execution_count": 18,
   "metadata": {},
   "outputs": [
    {
     "data": {
      "text/plain": [
       "(44610, 3677)"
      ]
     },
     "execution_count": 18,
     "metadata": {},
     "output_type": "execute_result"
    }
   ],
   "source": [
    "pad_rev= pad_sequences(encd_rev, maxlen=max_rev_len, padding='post')\n",
    "pad_rev.shape "
   ]
  },
  {
   "cell_type": "code",
   "execution_count": 19,
   "metadata": {},
   "outputs": [
    {
     "data": {
      "text/plain": [
       "array([894, 592, 321, ...,   0,   0,   0])"
      ]
     },
     "execution_count": 19,
     "metadata": {},
     "output_type": "execute_result"
    }
   ],
   "source": [
    "pad_rev[0]"
   ]
  },
  {
   "cell_type": "code",
   "execution_count": 20,
   "metadata": {},
   "outputs": [],
   "source": [
    "embed_matrix=np.zeros(shape=(vocab_size,embed_dim))\n",
    "for word,i in tok.word_index.items():\n",
    "  embed_vector=word_vec_dict.get(word)\n",
    "  if embed_vector is not None:  # word is in the vocabulary learned by the w2v model\n",
    "    embed_matrix[i]=embed_vector"
   ]
  },
  {
   "cell_type": "code",
   "execution_count": 21,
   "metadata": {},
   "outputs": [
    {
     "data": {
      "text/plain": [
       "(87767, 300)"
      ]
     },
     "execution_count": 21,
     "metadata": {},
     "output_type": "execute_result"
    }
   ],
   "source": [
    "embed_matrix.shape"
   ]
  },
  {
   "cell_type": "code",
   "execution_count": 22,
   "metadata": {},
   "outputs": [],
   "source": [
    "Y=keras.utils.to_categorical(data['new_lable'])\n",
    "x_train,x_test,y_train,y_test=train_test_split(pad_rev,Y,test_size=0.20,random_state=42)"
   ]
  },
  {
   "cell_type": "code",
   "execution_count": 23,
   "metadata": {},
   "outputs": [
    {
     "data": {
      "text/plain": [
       "(44610, 10)"
      ]
     },
     "execution_count": 23,
     "metadata": {},
     "output_type": "execute_result"
    }
   ],
   "source": [
    "Y.shape"
   ]
  },
  {
   "cell_type": "code",
   "execution_count": 24,
   "metadata": {},
   "outputs": [],
   "source": [
    "from keras.initializers import Constant\n",
    "from keras.layers import ReLU\n",
    "from keras.layers import Dropout\n",
    "from keras.models import Sequential\n",
    "from keras.layers import Embedding, Flatten, Dense, LSTM, Bidirectional\n",
    "from keras.layers import Embedding, Conv1D, MaxPooling1D, Flatten, Dense"
   ]
  },
  {
   "cell_type": "code",
   "execution_count": 29,
   "metadata": {},
   "outputs": [],
   "source": [
    "model = Sequential()\n",
    "model.add(Embedding(input_dim=vocab_size,output_dim=embed_dim,input_length=max_rev_len,embeddings_initializer=Constant(embed_matrix)))\n",
    "model.add(Conv1D(128, 5, activation='relu'))\n",
    "model.add(MaxPooling1D(5))\n",
    "model.add(Conv1D(128, 5, activation='relu'))\n",
    "model.add(MaxPooling1D(5))\n",
    "model.add(Flatten())\n",
    "model.add(Dense(128, activation='relu'))\n",
    "model.add(Dense(10, activation='sigmoid'))"
   ]
  },
  {
   "cell_type": "code",
   "execution_count": 25,
   "metadata": {},
   "outputs": [],
   "source": [
    "\n",
    "# model=Sequential()\n",
    "# model.add(Embedding(input_dim=vocab_size,output_dim=embed_dim,input_length=max_rev_len,embeddings_initializer=Constant(embed_matrix)))\n",
    "# model.add(Bidirectional(LSTM(64, return_sequences=True, input_shape=(max_rev_len, ))))\n",
    "# model.add(Flatten())\n",
    "# model.add(Dense(10, activation='sigmoid'))"
   ]
  },
  {
   "cell_type": "code",
   "execution_count": 30,
   "metadata": {},
   "outputs": [
    {
     "name": "stdout",
     "output_type": "stream",
     "text": [
      "Model: \"sequential_3\"\n",
      "_________________________________________________________________\n",
      " Layer (type)                Output Shape              Param #   \n",
      "=================================================================\n",
      " embedding_3 (Embedding)     (None, 3677, 300)         26330100  \n",
      "                                                                 \n",
      " conv1d (Conv1D)             (None, 3673, 128)         192128    \n",
      "                                                                 \n",
      " max_pooling1d (MaxPooling1D  (None, 734, 128)         0         \n",
      " )                                                               \n",
      "                                                                 \n",
      " conv1d_1 (Conv1D)           (None, 730, 128)          82048     \n",
      "                                                                 \n",
      " max_pooling1d_1 (MaxPooling  (None, 146, 128)         0         \n",
      " 1D)                                                             \n",
      "                                                                 \n",
      " flatten (Flatten)           (None, 18688)             0         \n",
      "                                                                 \n",
      " dense (Dense)               (None, 128)               2392192   \n",
      "                                                                 \n",
      " dense_1 (Dense)             (None, 10)                1290      \n",
      "                                                                 \n",
      "=================================================================\n",
      "Total params: 28,997,758\n",
      "Trainable params: 28,997,758\n",
      "Non-trainable params: 0\n",
      "_________________________________________________________________\n"
     ]
    }
   ],
   "source": [
    "model.summary()"
   ]
  },
  {
   "cell_type": "code",
   "execution_count": 31,
   "metadata": {},
   "outputs": [],
   "source": [
    "model.compile(optimizer='adam',loss='binary_crossentropy',metrics=['accuracy'])"
   ]
  },
  {
   "cell_type": "code",
   "execution_count": 32,
   "metadata": {},
   "outputs": [
    {
     "data": {
      "text/plain": [
       "<tf.Variable 'learning_rate:0' shape=() dtype=float32, numpy=0.001>"
      ]
     },
     "execution_count": 32,
     "metadata": {},
     "output_type": "execute_result"
    }
   ],
   "source": [
    "model.optimizer.learning_rate"
   ]
  },
  {
   "cell_type": "code",
   "execution_count": 33,
   "metadata": {},
   "outputs": [],
   "source": [
    "epochs=3\n",
    "batch_size=64"
   ]
  },
  {
   "cell_type": "code",
   "execution_count": 34,
   "metadata": {},
   "outputs": [
    {
     "name": "stdout",
     "output_type": "stream",
     "text": [
      "Epoch 1/3\n",
      "558/558 [==============================] - 4626s 8s/step - loss: 0.1166 - accuracy: 0.7743 - val_loss: 0.0688 - val_accuracy: 0.8750\n",
      "Epoch 2/3\n",
      "558/558 [==============================] - 4581s 8s/step - loss: 0.0546 - accuracy: 0.9034 - val_loss: 0.0613 - val_accuracy: 0.8881\n",
      "Epoch 3/3\n",
      "558/558 [==============================] - 4579s 8s/step - loss: 0.0371 - accuracy: 0.9338 - val_loss: 0.0657 - val_accuracy: 0.8874\n"
     ]
    }
   ],
   "source": [
    "history=model.fit(x_train,y_train,epochs=epochs,batch_size=batch_size,validation_data=(x_test,y_test))"
   ]
  },
  {
   "cell_type": "code",
   "execution_count": 35,
   "metadata": {},
   "outputs": [
    {
     "data": {
      "text/plain": [
       "<keras.callbacks.History at 0xc7dc91c0>"
      ]
     },
     "execution_count": 35,
     "metadata": {},
     "output_type": "execute_result"
    }
   ],
   "source": [
    "history"
   ]
  },
  {
   "cell_type": "code",
   "execution_count": 36,
   "metadata": {},
   "outputs": [
    {
     "data": {
      "text/plain": [
       "<keras.engine.sequential.Sequential at 0x2c6d2e0>"
      ]
     },
     "execution_count": 36,
     "metadata": {},
     "output_type": "execute_result"
    }
   ],
   "source": [
    "model"
   ]
  },
  {
   "cell_type": "code",
   "execution_count": 37,
   "metadata": {},
   "outputs": [],
   "source": [
    "from matplotlib import pyplot as plt"
   ]
  },
  {
   "cell_type": "code",
   "execution_count": 38,
   "metadata": {},
   "outputs": [
    {
     "name": "stdout",
     "output_type": "stream",
     "text": [
      "dict_keys(['loss', 'accuracy', 'val_loss', 'val_accuracy'])\n"
     ]
    },
    {
     "data": {
      "image/png": "[encoded data removed]",
      "text/plain": [
       "<Figure size 640x480 with 1 Axes>"
      ]
     },
     "metadata": {},
     "output_type": "display_data"
    },
    {
     "data": {
      "image/png": "[encoded data removed]",
      "text/plain": [
       "<Figure size 640x480 with 1 Axes>"
      ]
     },
     "metadata": {},
     "output_type": "display_data"
    }
   ],
   "source": [
    "print(history.history.keys())\n",
    "# summarize history for accuracy\n",
    "plt.plot(history.history['accuracy'])\n",
    "plt.plot(history.history['val_accuracy'])\n",
    "plt.title('model accuracy')\n",
    "plt.ylabel('accuracy')\n",
    "plt.xlabel('epoch')\n",
    "plt.legend(['train', 'test'], loc='upper left')\n",
    "plt.show()\n",
    "# summarize history for loss\n",
    "plt.plot(history.history['loss'])\n",
    "plt.plot(history.history['val_loss'])\n",
    "plt.title('model loss')\n",
    "plt.ylabel('loss')\n",
    "plt.xlabel('epoch')\n",
    "plt.legend(['train', 'test'], loc='upper left')\n",
    "plt.show()"
   ]
  },
  {
   "cell_type": "code",
   "execution_count": 40,
   "metadata": {},
   "outputs": [],
   "source": [
    "model.save('CNN_model.h5') "
   ]
  },
  {
   "cell_type": "code",
   "execution_count": 41,
   "metadata": {},
   "outputs": [],
   "source": [
    "from keras.models import load_model"
   ]
  },
  {
   "cell_type": "code",
   "execution_count": 42,
   "metadata": {},
   "outputs": [
    {
     "ename": "UnicodeDecodeError",
     "evalue": "'utf-8' codec can't decode byte 0xe1 in position 31: invalid continuation byte",
     "output_type": "error",
     "traceback": [
      "\u001b[1;31m---------------------------------------------------------------------------\u001b[0m",
      "\u001b[1;31mUnicodeDecodeError\u001b[0m                        Traceback (most recent call last)",
      "Cell \u001b[1;32mIn[42], line 1\u001b[0m\n\u001b[1;32m----> 1\u001b[0m model1 \u001b[39m=\u001b[39m load_model(\u001b[39m'\u001b[39;49m\u001b[39mCNN_model.h5\u001b[39;49m\u001b[39m'\u001b[39;49m)\n",
      "File \u001b[1;32mc:\\Users\\trghuey\\venv\\lib\\site-packages\\keras\\saving\\saving_api.py:212\u001b[0m, in \u001b[0;36mload_model\u001b[1;34m(filepath, custom_objects, compile, safe_mode, **kwargs)\u001b[0m\n\u001b[0;32m    204\u001b[0m     \u001b[39mreturn\u001b[39;00m saving_lib\u001b[39m.\u001b[39mload_model(\n\u001b[0;32m    205\u001b[0m         filepath,\n\u001b[0;32m    206\u001b[0m         custom_objects\u001b[39m=\u001b[39mcustom_objects,\n\u001b[0;32m    207\u001b[0m         \u001b[39mcompile\u001b[39m\u001b[39m=\u001b[39m\u001b[39mcompile\u001b[39m,\n\u001b[0;32m    208\u001b[0m         safe_mode\u001b[39m=\u001b[39msafe_mode,\n\u001b[0;32m    209\u001b[0m     )\n\u001b[0;32m    211\u001b[0m \u001b[39m# Legacy case.\u001b[39;00m\n\u001b[1;32m--> 212\u001b[0m \u001b[39mreturn\u001b[39;00m legacy_sm_saving_lib\u001b[39m.\u001b[39mload_model(\n\u001b[0;32m    213\u001b[0m     filepath, custom_objects\u001b[39m=\u001b[39mcustom_objects, \u001b[39mcompile\u001b[39m\u001b[39m=\u001b[39m\u001b[39mcompile\u001b[39m, \u001b[39m*\u001b[39m\u001b[39m*\u001b[39mkwargs\n\u001b[0;32m    214\u001b[0m )\n",
      "File \u001b[1;32mc:\\Users\\trghuey\\venv\\lib\\site-packages\\keras\\utils\\traceback_utils.py:70\u001b[0m, in \u001b[0;36mfilter_traceback.<locals>.error_handler\u001b[1;34m(*args, **kwargs)\u001b[0m\n\u001b[0;32m     67\u001b[0m     filtered_tb \u001b[39m=\u001b[39m _process_traceback_frames(e\u001b[39m.\u001b[39m__traceback__)\n\u001b[0;32m     68\u001b[0m     \u001b[39m# To get the full stack trace, call:\u001b[39;00m\n\u001b[0;32m     69\u001b[0m     \u001b[39m# `tf.debugging.disable_traceback_filtering()`\u001b[39;00m\n\u001b[1;32m---> 70\u001b[0m     \u001b[39mraise\u001b[39;00m e\u001b[39m.\u001b[39mwith_traceback(filtered_tb) \u001b[39mfrom\u001b[39;00m \u001b[39mNone\u001b[39m\n\u001b[0;32m     71\u001b[0m \u001b[39mfinally\u001b[39;00m:\n\u001b[0;32m     72\u001b[0m     \u001b[39mdel\u001b[39;00m filtered_tb\n",
      "File \u001b[1;32mc:\\Users\\trghuey\\venv\\lib\\site-packages\\tensorflow\\python\\lib\\io\\file_io.py:703\u001b[0m, in \u001b[0;36mis_directory_v2\u001b[1;34m(path)\u001b[0m\n\u001b[0;32m    694\u001b[0m \u001b[39m\"\"\"Returns whether the path is a directory or not.\u001b[39;00m\n\u001b[0;32m    695\u001b[0m \n\u001b[0;32m    696\u001b[0m \u001b[39mArgs:\u001b[39;00m\n\u001b[1;32m   (...)\u001b[0m\n\u001b[0;32m    700\u001b[0m \u001b[39m  True, if the path is a directory; False otherwise\u001b[39;00m\n\u001b[0;32m    701\u001b[0m \u001b[39m\"\"\"\u001b[39;00m\n\u001b[0;32m    702\u001b[0m \u001b[39mtry\u001b[39;00m:\n\u001b[1;32m--> 703\u001b[0m   \u001b[39mreturn\u001b[39;00m _pywrap_file_io\u001b[39m.\u001b[39mIsDirectory(compat\u001b[39m.\u001b[39mpath_to_bytes(path))\n\u001b[0;32m    704\u001b[0m \u001b[39mexcept\u001b[39;00m errors\u001b[39m.\u001b[39mOpError:\n\u001b[0;32m    705\u001b[0m   \u001b[39mreturn\u001b[39;00m \u001b[39mFalse\u001b[39;00m\n",
      "\u001b[1;31mUnicodeDecodeError\u001b[0m: 'utf-8' codec can't decode byte 0xe1 in position 31: invalid continuation byte"
     ]
    }
   ],
   "source": [
    "model1 = load_model('CNN_model.h5')"
   ]
  },
  {
   "cell_type": "code",
   "execution_count": null,
   "metadata": {},
   "outputs": [],
   "source": [
    "model.evaluate(x_test,y_test)"
   ]
  }
 ],
 "metadata": {
  "kernelspec": {
   "display_name": "venv",
   "language": "python",
   "name": "python3"
  },
  "language_info": {
   "codemirror_mode": {
    "name": "ipython",
    "version": 3
   },
   "file_extension": ".py",
   "mimetype": "text/x-python",
   "name": "python",
   "nbconvert_exporter": "python",
   "pygments_lexer": "ipython3",
   "version": "3.9.13"
  },
  "orig_nbformat": 4
 },
 "nbformat": 4,
 "nbformat_minor": 2
}
