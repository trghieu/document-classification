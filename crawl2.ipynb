{
 "cells": [
  {
   "cell_type": "code",
   "execution_count": 3,
   "metadata": {},
   "outputs": [
    {
     "ename": "SyntaxError",
     "evalue": "invalid syntax (3626201354.py, line 2)",
     "output_type": "error",
     "traceback": [
      "\u001b[1;36m  Cell \u001b[1;32mIn[3], line 2\u001b[1;36m\u001b[0m\n\u001b[1;33m    Bến xe, cửa ngõ tại TP HCM và Hà Nội chiều nay đông đúc, ùn tắc kéo dài do người dân đổ về quê nghỉ lễ 5 ngày dịp 30/4.\u001b[0m\n\u001b[1;37m        ^\u001b[0m\n\u001b[1;31mSyntaxError\u001b[0m\u001b[1;31m:\u001b[0m invalid syntax\n"
     ]
    }
   ],
   "source": [
    "a = 'Người dân đổ về quê, nhiều nơi ở TP HCM và Hà Nội ùn tắc'\n",
    "Bến xe, cửa ngõ tại TP HCM và Hà Nội chiều nay đông đúc, ùn tắc kéo dài do người dân đổ về quê nghỉ lễ 5 ngày dịp 30/4.\n",
    "Cửa ngõ, sân bay ùn tắc vì người dân về quê nghỉ lễ. Video: Nhóm phóng viên\n",
    "Chiều 28/4, tại TP HCM, các tuyến đường dẫn ra sân bay Tân Sơn Nhất như Bạch Đằng, Cộng Hòa, Hoàng Văn Thụ... ùn tắc kéo dài do người dân đổ về quê nghỉ lễ 30/4-1/5 và giỗ Tổ Hùng Vương. Năm nay, người lao động được nghỉ 5 ngày liên tục từ 29/4 đến 3/5.\n",
    "Trên đường Trường Sơn, dòng xe dưới cầu vượt chen nhau để vào nha ga quốc nội.\n",
    "Trên đường Bạch Đằng, trục đường chính từ TP Thủ Đức, Bình Dương, Đồng Nai đến sân bay ùn tắc kéo dài khoảng một km. Xe cấp cứu liên tục hú còi xin đường trong dòng xe kẹt cứng.\n",
    "Trong sân bay tấp nập hành khách. Hôm nay, nhà ga khai thác 500 chuyến quốc nội và 261 chuyến quốc tế, tương đương 126.000 khách. Dự kiến, lượng khách đến, đi sân bay Tân Sơn Nhất dịp lễ này là gần 760.000 lượt. Theo thống kê, tổng số chuyến bay qua sân bay này tăng gần 19% và tổng số khách tăng gần 33% so với năm ngoái.\n",
    "Tại Bến xe miền Tây, từ 16h cũng đông nghịt người tới mua vé, về quê. Ông Trần Văn Phương, Phó giám đốc bến xe cho biết lượng khách tăng đột biến vào buổi chiều khi người dân về quê, du lịch sớm. Dự kiến hết ngày, lượng khách qua bến 52.000-55.000 người, với 1.700 chuyến. \n",
    "\"Lượng khách hôm nay qua bến tăng 100% so với năm ngoái, nhưng dự báo ngày mai tiếp tục tăng, ước đạt khoảng 58.000 người\", ông Phương nói và cho biết bến đã chuẩn bị các phương án nhân sự, điều động xe từ những tuyến ít khách qua tuyến nhiều để tránh ùn tắc. \n",
    "Tại bến xe Miền Đông cũ, quận Bình Thạnh, Phó giám đốc bến Đỗ Phú Đạt cho biết hôm nay khách qua nơi này dự kiến khoảng 17.000 người, tăng 65% so năm trước. 5 ngày nghỉ lễ, bến dự kiến đón gần 53.000 khách, tăng 120% so cùng kỳ năm trước dù nơi này chỉ còn hơn 10 tuyến cố định sau khi phần lớn đã chuyển qua bến mới. \n",
    "Phía ngoài bến xe, lúc 17h20, vòng xoay An Lạc, quận Bình Tân, cửa ngõ phía Tây của thành phố, ôtô xếp hàng dài.\n",
    "Đoạn gần đó, trên quốc lộ 1A, dòng xe máy, ôtô nhích từng chút một trên đường về quê.\n",
    "Trên đường về miền Tây, tại cầu Rạch Miễu bên bờ Bến Tre, xe máy, ôtô chen chúc dài hàng cây số để về các tỉnh Sóc Trăng, Trà Vinh, Vĩnh Long... Trạm BOT cầu Rạch Miễu phải xả trạm hai lần.\n",
    "Tại Hà Nội, từ 16h, những trục đường chính thủ đô bắt đầu ùn tắc do đông người dân đổ về quê nghỉ lễ.\n",
    "Trên Vành đai 3 trên cao, hướng đi cầu Thanh Trì, cao tốc Pháp Vân - Cầu Giẽ, dòng xe ùn ứ kéo dài hơn 3 km. Đây là một trong những tuyến đường ở cửa ngõ tây nam Thủ đô thường xuyên ùn tắc dịp lễ, Tết.\n",
    "Gia đình anh Nguyễn Thanh Tùng mang hành lý, vừa đi bộ vào bến xe Nước Ngầm để mua vé về Diễn Châu, Nghệ An. \"Dịp này nghỉ lễ dài nên cả nhà về quê hết chứ bình thường chỉ 3 mẹ con đi thôi\", anh Tùng nói.\n",
    "Trong phòng bán vé của bến xe Nước Ngầm, người dân xếp hàng mua vé về quê. Nhiều người đến sớm đợi hơn một tiếng nhưng vẫn chưa mua được vé vì nhà xe chưa mở bán.'"
   ]
  },
  {
   "cell_type": "code",
   "execution_count": null,
   "metadata": {},
   "outputs": [],
   "source": [
    "import numpy as np\n",
    "import pandas as pd\n",
    "from selenium import webdriver\n",
    "from selenium.webdriver.common.action_chains import ActionChains\n",
    "import chromedriver_autoinstaller\n",
    "from selenium.webdriver.common.by import By\n",
    "from bs4 import BeautifulSoup\n",
    "import time\n",
    "from cgitb import text\n",
    "from selenium.webdriver.support.ui import WebDriverWait\n",
    "from selenium.webdriver.support import expected_conditions as EC\n",
    "from asyncio.windows_events import NULL\n",
    "from selenium.common.exceptions import TimeoutException\n",
    "import csv\n",
    "from this import d\n",
    "import time"
   ]
  },
  {
   "cell_type": "code",
   "execution_count": 3,
   "metadata": {},
   "outputs": [],
   "source": [
    "url = 'https://vnexpress.net/category/day?cateid=1001007&fromdate=1670198400&todate=1675296000&allcate=1001007'\n",
    "url_page = '&page='\n",
    "page = 20\n",
    "link_href=[]\n",
    "\n",
    "chromedriver_autoinstaller.install()\n",
    "driver = webdriver.Chrome()"
   ]
  },
  {
   "cell_type": "code",
   "execution_count": 3,
   "metadata": {},
   "outputs": [],
   "source": [
    "# driver.get(url+url_page+str(1))\n",
    "# time.sleep(5)\n",
    "# driver.execute_script(\"window.scrollTo(0, document.body.scrollHeight)\")\n",
    "# time.sleep(5)\n",
    "# soup = BeautifulSoup(driver.page_source, 'html.parser')"
   ]
  },
  {
   "cell_type": "code",
   "execution_count": null,
   "metadata": {},
   "outputs": [],
   "source": [
    "# links_2 = soup.find_all('article',class_ = 'item-news item-news-common')\n",
    "# for link_news in links_2:\n",
    "#     links = link_news.find(class_ = 'thumb-art').find(class_= 'thumb thumb-5x3')\n",
    "#     link_href.append(links.get('href'))\n",
    "# link_href"
   ]
  },
  {
   "cell_type": "code",
   "execution_count": 4,
   "metadata": {},
   "outputs": [],
   "source": [
    "for i in range(1,(page+1)):\n",
    "    driver.get(url+url_page+str(i))\n",
    "    time.sleep(5)\n",
    "    driver.execute_script(\"window.scrollTo(0, document.body.scrollHeight)\")\n",
    "    time.sleep(5)\n",
    "    soup = BeautifulSoup(driver.page_source, 'html.parser')\n",
    "    # #   tin dau tien\n",
    "    # news1 = soup.find('article',class_ ='item-news full-thumb article-topstory').find(class_ = 'title-news').find('a')\n",
    "    # link_href.append(news1.get('href'))\n",
    "    # # 3 tin tiep theo\n",
    "    # links_1 = soup.find_all('article',class_ = 'article-item')\n",
    "    # for link_news in links_1:\n",
    "    #     links = link_news.find('a')\n",
    "    #     link_href.append(links.get('href'))\n",
    "    #tin con lai\n",
    "    links_2 = soup.find_all('article',class_ = 'item-news item-news-common')\n",
    "    for link_news in links_2:\n",
    "        links = link_news.find(class_ = 'thumb-art').find(class_= 'thumb thumb-5x3')\n",
    "        link_href.append(links.get('href'))\n",
    "    link_href"
   ]
  },
  {
   "cell_type": "code",
   "execution_count": 5,
   "metadata": {},
   "outputs": [
    {
     "data": {
      "text/plain": [
       "543"
      ]
     },
     "execution_count": 5,
     "metadata": {},
     "output_type": "execute_result"
    }
   ],
   "source": [
    "len(link_href)"
   ]
  },
  {
   "cell_type": "code",
   "execution_count": 6,
   "metadata": {},
   "outputs": [
    {
     "data": {
      "text/plain": [
       "<function TextIOWrapper.close()>"
      ]
     },
     "execution_count": 6,
     "metadata": {},
     "output_type": "execute_result"
    }
   ],
   "source": [
    "file = open('test_TXT.txt','a')\n",
    "for i in link_href:\n",
    "    file.writelines(i +'\\n')\n",
    "file.flush()\n",
    "file.close"
   ]
  },
  {
   "cell_type": "code",
   "execution_count": 7,
   "metadata": {},
   "outputs": [
    {
     "data": {
      "text/plain": [
       "543"
      ]
     },
     "execution_count": 7,
     "metadata": {},
     "output_type": "execute_result"
    }
   ],
   "source": [
    "len(link_href)"
   ]
  },
  {
   "cell_type": "code",
   "execution_count": 8,
   "metadata": {},
   "outputs": [
    {
     "data": {
      "text/plain": [
       "<function TextIOWrapper.close()>"
      ]
     },
     "execution_count": 8,
     "metadata": {},
     "output_type": "execute_result"
    }
   ],
   "source": [
    "file = open('Link_phapluat.txt','a')\n",
    "for i in link_href:\n",
    "    file.writelines(i +'\\n')\n",
    "file.flush()\n",
    "file.close"
   ]
  }
 ],
 "metadata": {
  "kernelspec": {
   "display_name": "venv",
   "language": "python",
   "name": "python3"
  },
  "language_info": {
   "codemirror_mode": {
    "name": "ipython",
    "version": 3
   },
   "file_extension": ".py",
   "mimetype": "text/x-python",
   "name": "python",
   "nbconvert_exporter": "python",
   "pygments_lexer": "ipython3",
   "version": "3.9.13"
  },
  "orig_nbformat": 4
 },
 "nbformat": 4,
 "nbformat_minor": 2
}
