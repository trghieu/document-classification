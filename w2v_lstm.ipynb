{
 "cells": [
  {
   "cell_type": "code",
   "execution_count": 2,
   "metadata": {},
   "outputs": [],
   "source": [
    "import gensim\n",
    "import os\n",
    "from distutils.version import LooseVersion, StrictVersion\n",
    "import pandas as pd\n",
    "import numpy as np\n",
    "import matplotlib.pyplot as plt\n",
    "from sklearn.model_selection import train_test_split\n",
    "import sklearn.neighbors\n",
    "from sklearn.neighbors import KNeighborsClassifier\n",
    "from sklearn import metrics\n",
    "import re"
   ]
  },
  {
   "cell_type": "code",
   "execution_count": 3,
   "metadata": {},
   "outputs": [],
   "source": [
    "from gensim.models import Word2Vec"
   ]
  },
  {
   "cell_type": "code",
   "execution_count": 4,
   "metadata": {},
   "outputs": [],
   "source": [
    "modelwv = Word2Vec.load(\"W2Vmodel.bin\")"
   ]
  },
  {
   "cell_type": "code",
   "execution_count": 4,
   "metadata": {},
   "outputs": [],
   "source": [
    "# print(modelwv.wv['việt_nam'])"
   ]
  },
  {
   "cell_type": "code",
   "execution_count": 5,
   "metadata": {},
   "outputs": [],
   "source": [
    "# modelwv.wv.most_similar('việt_nam', topn=5)"
   ]
  },
  {
   "cell_type": "code",
   "execution_count": 5,
   "metadata": {},
   "outputs": [
    {
     "data": {
      "text/plain": [
       "137183"
      ]
     },
     "execution_count": 5,
     "metadata": {},
     "output_type": "execute_result"
    }
   ],
   "source": [
    "len(modelwv.wv)"
   ]
  },
  {
   "cell_type": "code",
   "execution_count": 8,
   "metadata": {},
   "outputs": [],
   "source": [
    "data_train = pd.read_csv('train_data.csv')\n",
    "data_val = pd.read_csv('val_data.csv')\n",
    "data_test = pd.read_csv('test_data.csv')\n",
    "data_train_val = pd.concat([data_train,data_val])"
   ]
  },
  {
   "cell_type": "code",
   "execution_count": 9,
   "metadata": {},
   "outputs": [
    {
     "data": {
      "text/html": [
       "<div>\n",
       "<style scoped>\n",
       "    .dataframe tbody tr th:only-of-type {\n",
       "        vertical-align: middle;\n",
       "    }\n",
       "\n",
       "    .dataframe tbody tr th {\n",
       "        vertical-align: top;\n",
       "    }\n",
       "\n",
       "    .dataframe thead th {\n",
       "        text-align: right;\n",
       "    }\n",
       "</style>\n",
       "<table border=\"1\" class=\"dataframe\">\n",
       "  <thead>\n",
       "    <tr style=\"text-align: right;\">\n",
       "      <th></th>\n",
       "      <th>Unnamed: 0.1</th>\n",
       "      <th>Unnamed: 0</th>\n",
       "      <th>text</th>\n",
       "      <th>lable</th>\n",
       "      <th>word_length</th>\n",
       "    </tr>\n",
       "  </thead>\n",
       "  <tbody>\n",
       "    <tr>\n",
       "      <th>0</th>\n",
       "      <td>8478</td>\n",
       "      <td>9164</td>\n",
       "      <td>doanh_nghiệp giải tiên_phong cộng_đồng sanofi ...</td>\n",
       "      <td>Doisong</td>\n",
       "      <td>456</td>\n",
       "    </tr>\n",
       "    <tr>\n",
       "      <th>1</th>\n",
       "      <td>13771</td>\n",
       "      <td>15421</td>\n",
       "      <td>nasa_hủy phóng sứ_mệnh mặt_trăng artemis cơ_qu...</td>\n",
       "      <td>Khoahoc</td>\n",
       "      <td>282</td>\n",
       "    </tr>\n",
       "    <tr>\n",
       "      <th>2</th>\n",
       "      <td>7852</td>\n",
       "      <td>8485</td>\n",
       "      <td>tại_sao hoa trái_cây khoa_học giải_thích hoa t...</td>\n",
       "      <td>Doisong</td>\n",
       "      <td>150</td>\n",
       "    </tr>\n",
       "    <tr>\n",
       "      <th>3</th>\n",
       "      <td>36984</td>\n",
       "      <td>41054</td>\n",
       "      <td>pháp kêu_gọi eu xét_nghiệm covid trung_quốc ph...</td>\n",
       "      <td>Thegioi</td>\n",
       "      <td>254</td>\n",
       "    </tr>\n",
       "    <tr>\n",
       "      <th>4</th>\n",
       "      <td>39410</td>\n",
       "      <td>43546</td>\n",
       "      <td>pakistan chặn cao_tốc đốt xe cựu thủ_tướng bắt...</td>\n",
       "      <td>Thegioi</td>\n",
       "      <td>213</td>\n",
       "    </tr>\n",
       "    <tr>\n",
       "      <th>...</th>\n",
       "      <td>...</td>\n",
       "      <td>...</td>\n",
       "      <td>...</td>\n",
       "      <td>...</td>\n",
       "      <td>...</td>\n",
       "    </tr>\n",
       "    <tr>\n",
       "      <th>8917</th>\n",
       "      <td>60</td>\n",
       "      <td>64</td>\n",
       "      <td>làng_nghề đan mê bồ dòng sông tiền đồng thápmê...</td>\n",
       "      <td>Chinhtrixahoi</td>\n",
       "      <td>562</td>\n",
       "    </tr>\n",
       "    <tr>\n",
       "      <th>8918</th>\n",
       "      <td>4529</td>\n",
       "      <td>4872</td>\n",
       "      <td>không_khí lạnh tràn miền bắc không_khí lạnh tr...</td>\n",
       "      <td>Chinhtrixahoi</td>\n",
       "      <td>127</td>\n",
       "    </tr>\n",
       "    <tr>\n",
       "      <th>8919</th>\n",
       "      <td>11456</td>\n",
       "      <td>12643</td>\n",
       "      <td>đỗ hải_yến tri_ân điện_ảnh tp hcmđỗ hải_yến êk...</td>\n",
       "      <td>Giaitri</td>\n",
       "      <td>304</td>\n",
       "    </tr>\n",
       "    <tr>\n",
       "      <th>8920</th>\n",
       "      <td>2379</td>\n",
       "      <td>2539</td>\n",
       "      <td>bão mulan hướng quảng_ninh nam định chiều bão ...</td>\n",
       "      <td>Chinhtrixahoi</td>\n",
       "      <td>260</td>\n",
       "    </tr>\n",
       "    <tr>\n",
       "      <th>8921</th>\n",
       "      <td>13981</td>\n",
       "      <td>15709</td>\n",
       "      <td>hồi_sinh tế_bào nội tạng lợn chết khoa_học mỹ ...</td>\n",
       "      <td>Khoahoc</td>\n",
       "      <td>231</td>\n",
       "    </tr>\n",
       "  </tbody>\n",
       "</table>\n",
       "<p>35688 rows × 5 columns</p>\n",
       "</div>"
      ],
      "text/plain": [
       "      Unnamed: 0.1  Unnamed: 0  \\\n",
       "0             8478        9164   \n",
       "1            13771       15421   \n",
       "2             7852        8485   \n",
       "3            36984       41054   \n",
       "4            39410       43546   \n",
       "...            ...         ...   \n",
       "8917            60          64   \n",
       "8918          4529        4872   \n",
       "8919         11456       12643   \n",
       "8920          2379        2539   \n",
       "8921         13981       15709   \n",
       "\n",
       "                                                   text          lable  \\\n",
       "0     doanh_nghiệp giải tiên_phong cộng_đồng sanofi ...        Doisong   \n",
       "1     nasa_hủy phóng sứ_mệnh mặt_trăng artemis cơ_qu...        Khoahoc   \n",
       "2     tại_sao hoa trái_cây khoa_học giải_thích hoa t...        Doisong   \n",
       "3     pháp kêu_gọi eu xét_nghiệm covid trung_quốc ph...        Thegioi   \n",
       "4     pakistan chặn cao_tốc đốt xe cựu thủ_tướng bắt...        Thegioi   \n",
       "...                                                 ...            ...   \n",
       "8917  làng_nghề đan mê bồ dòng sông tiền đồng thápmê...  Chinhtrixahoi   \n",
       "8918  không_khí lạnh tràn miền bắc không_khí lạnh tr...  Chinhtrixahoi   \n",
       "8919  đỗ hải_yến tri_ân điện_ảnh tp hcmđỗ hải_yến êk...        Giaitri   \n",
       "8920  bão mulan hướng quảng_ninh nam định chiều bão ...  Chinhtrixahoi   \n",
       "8921  hồi_sinh tế_bào nội tạng lợn chết khoa_học mỹ ...        Khoahoc   \n",
       "\n",
       "      word_length  \n",
       "0             456  \n",
       "1             282  \n",
       "2             150  \n",
       "3             254  \n",
       "4             213  \n",
       "...           ...  \n",
       "8917          562  \n",
       "8918          127  \n",
       "8919          304  \n",
       "8920          260  \n",
       "8921          231  \n",
       "\n",
       "[35688 rows x 5 columns]"
      ]
     },
     "execution_count": 9,
     "metadata": {},
     "output_type": "execute_result"
    }
   ],
   "source": [
    "data_train_val"
   ]
  },
  {
   "cell_type": "code",
   "execution_count": 10,
   "metadata": {},
   "outputs": [
    {
     "data": {
      "text/plain": [
       "137183"
      ]
     },
     "execution_count": 10,
     "metadata": {},
     "output_type": "execute_result"
    }
   ],
   "source": [
    "len(modelwv.wv)"
   ]
  },
  {
   "cell_type": "code",
   "execution_count": 11,
   "metadata": {},
   "outputs": [],
   "source": [
    "vocab=list(modelwv.wv.index_to_key)"
   ]
  },
  {
   "cell_type": "code",
   "execution_count": 12,
   "metadata": {},
   "outputs": [
    {
     "name": "stdout",
     "output_type": "stream",
     "text": [
      "The no of key-value pairs :  137183\n"
     ]
    }
   ],
   "source": [
    "word_vec_dict={}\n",
    "for word in vocab:\n",
    "  word_vec_dict[word]=modelwv.wv[word]\n",
    "print(\"The no of key-value pairs : \",len(word_vec_dict))"
   ]
  },
  {
   "cell_type": "code",
   "execution_count": 13,
   "metadata": {},
   "outputs": [
    {
     "name": "stdout",
     "output_type": "stream",
     "text": [
      "1488\n"
     ]
    }
   ],
   "source": [
    "maxi=-1\n",
    "for i,rev in enumerate(data_train_val['text']):\n",
    "    tokens=rev.split()\n",
    "    if(len(tokens)>maxi):\n",
    "        maxi=len(tokens)\n",
    "print(maxi)"
   ]
  },
  {
   "cell_type": "code",
   "execution_count": 28,
   "metadata": {},
   "outputs": [],
   "source": [
    "import pandas as pd\n",
    "import numpy as np\n",
    "from sklearn.preprocessing import LabelEncoder\n",
    "lable_types = ('Chinhtrixahoi','Doisong','Khoahoc','Kinhdoanh','Phapluat','Suckhoe','Thegioi','Thethao','Giaitri','Sohoa')\n",
    "lable_df = pd.DataFrame(lable_types, columns=['lable'])\n",
    "labelencoder = LabelEncoder()\n",
    "data_train['new_lable'] = labelencoder.fit_transform(data_train['lable'])\n",
    "data_val['new_lable'] = labelencoder.fit_transform(data_val['lable'])\n",
    "data_test['new_lable'] = labelencoder.fit_transform(data_test['lable'])"
   ]
  },
  {
   "cell_type": "code",
   "execution_count": 29,
   "metadata": {},
   "outputs": [],
   "source": [
    "import keras\n",
    "from keras.preprocessing.text import one_hot,Tokenizer\n",
    "from keras_preprocessing.sequence import pad_sequences\n",
    "from sklearn.model_selection import train_test_split,cross_validate\n",
    "from keras.models import Sequential\n",
    "from keras.layers import Dense , Flatten ,Embedding,Input,CuDNNLSTM,LSTM\n",
    "from keras.models import Model\n",
    "from keras.preprocessing.text import text_to_word_sequence"
   ]
  },
  {
   "cell_type": "code",
   "execution_count": 30,
   "metadata": {},
   "outputs": [],
   "source": [
    "tok = Tokenizer()\n",
    "tok.fit_on_texts(data_train_val['text'])\n",
    "vocab_size = len(tok.word_index) + 1\n"
   ]
  },
  {
   "cell_type": "code",
   "execution_count": 31,
   "metadata": {},
   "outputs": [],
   "source": [
    "encd_rev_train = tok.texts_to_sequences(data_train['text'])\n",
    "encd_rev_val = tok.texts_to_sequences(data_val['text'])\n",
    "encd_rev_test = tok.texts_to_sequences(data_test['text'])"
   ]
  },
  {
   "cell_type": "code",
   "execution_count": 32,
   "metadata": {},
   "outputs": [],
   "source": [
    "max_rev_len=400  # max lenght of a review\n",
    "vocab_size = len(tok.word_index) + 1  # total no of words\n",
    "embed_dim=300 # embedding dimension as choosen in word2vec constructor"
   ]
  },
  {
   "cell_type": "code",
   "execution_count": 33,
   "metadata": {},
   "outputs": [
    {
     "data": {
      "text/plain": [
       "77849"
      ]
     },
     "execution_count": 33,
     "metadata": {},
     "output_type": "execute_result"
    }
   ],
   "source": [
    "vocab_size"
   ]
  },
  {
   "cell_type": "code",
   "execution_count": 34,
   "metadata": {},
   "outputs": [],
   "source": [
    "pad_rev_train= pad_sequences(encd_rev_train, maxlen=max_rev_len, padding='post')\n",
    "pad_rev_val= pad_sequences(encd_rev_val, maxlen=max_rev_len, padding='post')\n",
    "pad_rev_test= pad_sequences(encd_rev_test, maxlen=max_rev_len, padding='post')\n"
   ]
  },
  {
   "cell_type": "code",
   "execution_count": 35,
   "metadata": {},
   "outputs": [],
   "source": [
    "embed_matrix=np.zeros(shape=(vocab_size,embed_dim))\n",
    "for word,i in tok.word_index.items():\n",
    "  embed_vector=word_vec_dict.get(word)\n",
    "  if embed_vector is not None:\n",
    "    embed_matrix[i]=embed_vector"
   ]
  },
  {
   "cell_type": "code",
   "execution_count": 36,
   "metadata": {},
   "outputs": [],
   "source": [
    "y_train=keras.utils.to_categorical(data_train['new_lable'],num_classes=10)\n",
    "y_val=keras.utils.to_categorical(data_val['new_lable'],num_classes=10)\n",
    "Y_test=keras.utils.to_categorical(data_test['new_lable'],num_classes=10)"
   ]
  },
  {
   "cell_type": "code",
   "execution_count": 37,
   "metadata": {},
   "outputs": [],
   "source": [
    "x_train = pad_rev_train\n",
    "x_val = pad_rev_val\n",
    "x_test = pad_rev_test"
   ]
  },
  {
   "cell_type": "code",
   "execution_count": 38,
   "metadata": {},
   "outputs": [],
   "source": [
    "from keras.initializers import Constant\n",
    "from keras.layers import ReLU\n",
    "from keras.layers import Dropout\n",
    "from keras.models import Sequential\n",
    "from keras.layers import Embedding, Flatten, Dense, LSTM, Bidirectional,SpatialDropout1D"
   ]
  },
  {
   "cell_type": "code",
   "execution_count": 39,
   "metadata": {},
   "outputs": [],
   "source": [
    "model=Sequential()\n",
    "model.add(Embedding(input_dim=vocab_size,output_dim=embed_dim,input_length=max_rev_len,embeddings_initializer=Constant(embed_matrix)))\n",
    "model.add(SpatialDropout1D(0.5))\n",
    "model.add(Bidirectional(LSTM(128, input_shape=(max_rev_len, ))))\n",
    "model.add(Dense(10, activation='softmax'))"
   ]
  },
  {
   "cell_type": "code",
   "execution_count": 40,
   "metadata": {},
   "outputs": [
    {
     "name": "stdout",
     "output_type": "stream",
     "text": [
      "Model: \"sequential\"\n",
      "_________________________________________________________________\n",
      " Layer (type)                Output Shape              Param #   \n",
      "=================================================================\n",
      " embedding (Embedding)       (None, 400, 300)          23354700  \n",
      "                                                                 \n",
      " spatial_dropout1d (SpatialD  (None, 400, 300)         0         \n",
      " ropout1D)                                                       \n",
      "                                                                 \n",
      " bidirectional (Bidirectiona  (None, 256)              439296    \n",
      " l)                                                              \n",
      "                                                                 \n",
      " dense (Dense)               (None, 10)                2570      \n",
      "                                                                 \n",
      "=================================================================\n",
      "Total params: 23,796,566\n",
      "Trainable params: 23,796,566\n",
      "Non-trainable params: 0\n",
      "_________________________________________________________________\n"
     ]
    }
   ],
   "source": [
    "model.summary()"
   ]
  },
  {
   "cell_type": "code",
   "execution_count": 41,
   "metadata": {},
   "outputs": [],
   "source": [
    "model.compile(optimizer='adam',loss='categorical_crossentropy',metrics=['accuracy'])"
   ]
  },
  {
   "cell_type": "code",
   "execution_count": 42,
   "metadata": {},
   "outputs": [
    {
     "data": {
      "text/plain": [
       "<tf.Variable 'learning_rate:0' shape=() dtype=float32, numpy=0.001>"
      ]
     },
     "execution_count": 42,
     "metadata": {},
     "output_type": "execute_result"
    }
   ],
   "source": [
    "model.optimizer.learning_rate"
   ]
  },
  {
   "cell_type": "code",
   "execution_count": 43,
   "metadata": {},
   "outputs": [],
   "source": [
    "epochs=10\n",
    "batch_size=64"
   ]
  },
  {
   "cell_type": "code",
   "execution_count": 44,
   "metadata": {},
   "outputs": [],
   "source": [
    "from keras.callbacks import EarlyStopping"
   ]
  },
  {
   "cell_type": "code",
   "execution_count": 45,
   "metadata": {},
   "outputs": [
    {
     "name": "stdout",
     "output_type": "stream",
     "text": [
      "Epoch 1/10\n",
      "419/419 [==============================] - 1671s 4s/step - loss: 1.1238 - accuracy: 0.6322 - val_loss: 0.6593 - val_accuracy: 0.7874\n",
      "Epoch 2/10\n",
      "419/419 [==============================] - 1279s 3s/step - loss: 0.6684 - accuracy: 0.7847 - val_loss: 0.5461 - val_accuracy: 0.8275\n",
      "Epoch 3/10\n",
      "419/419 [==============================] - 1280s 3s/step - loss: 0.5430 - accuracy: 0.8243 - val_loss: 0.4776 - val_accuracy: 0.8542\n",
      "Epoch 4/10\n",
      "419/419 [==============================] - 1291s 3s/step - loss: 0.4593 - accuracy: 0.8519 - val_loss: 0.4856 - val_accuracy: 0.8476\n",
      "Epoch 5/10\n",
      "419/419 [==============================] - 1553s 4s/step - loss: 0.4144 - accuracy: 0.8617 - val_loss: 0.4288 - val_accuracy: 0.8695\n",
      "Epoch 6/10\n",
      "419/419 [==============================] - 1609s 4s/step - loss: 0.3641 - accuracy: 0.8776 - val_loss: 0.4090 - val_accuracy: 0.8719\n",
      "Epoch 7/10\n",
      "419/419 [==============================] - 1578s 4s/step - loss: 0.3216 - accuracy: 0.8917 - val_loss: 0.4066 - val_accuracy: 0.8784\n",
      "Epoch 8/10\n",
      "419/419 [==============================] - 1676s 4s/step - loss: 0.2875 - accuracy: 0.9019 - val_loss: 0.3933 - val_accuracy: 0.8818\n",
      "Epoch 9/10\n",
      "419/419 [==============================] - 1724s 4s/step - loss: 0.2526 - accuracy: 0.9137 - val_loss: 0.3890 - val_accuracy: 0.8841\n",
      "Epoch 10/10\n",
      "419/419 [==============================] - 1637s 4s/step - loss: 0.2392 - accuracy: 0.9189 - val_loss: 0.3924 - val_accuracy: 0.8860\n"
     ]
    }
   ],
   "source": [
    "history=model.fit(x_train,y_train,epochs=epochs,batch_size=batch_size,validation_data=(x_val,y_val))"
   ]
  },
  {
   "cell_type": "code",
   "execution_count": 1,
   "metadata": {},
   "outputs": [
    {
     "ename": "NameError",
     "evalue": "name 'model' is not defined",
     "output_type": "error",
     "traceback": [
      "\u001b[1;31m---------------------------------------------------------------------------\u001b[0m",
      "\u001b[1;31mNameError\u001b[0m                                 Traceback (most recent call last)",
      "Cell \u001b[1;32mIn[1], line 1\u001b[0m\n\u001b[1;32m----> 1\u001b[0m accr \u001b[39m=\u001b[39m model\u001b[39m.\u001b[39mevaluate(x_test,y_test)\n\u001b[0;32m      2\u001b[0m \u001b[39mprint\u001b[39m(\u001b[39m'\u001b[39m\u001b[39mTest set\u001b[39m\u001b[39m\\n\u001b[39;00m\u001b[39m  Loss: \u001b[39m\u001b[39m{:0.3f}\u001b[39;00m\u001b[39m\\n\u001b[39;00m\u001b[39m  Accuracy: \u001b[39m\u001b[39m{:0.3f}\u001b[39;00m\u001b[39m'\u001b[39m\u001b[39m.\u001b[39mformat(accr[\u001b[39m0\u001b[39m],accr[\u001b[39m1\u001b[39m]))\n",
      "\u001b[1;31mNameError\u001b[0m: name 'model' is not defined"
     ]
    }
   ],
   "source": [
    "accr = model.evaluate(x_test,y_test)\n",
    "print('Test set\\n  Loss: {:0.3f}\\n  Accuracy: {:0.3f}'.format(accr[0],accr[1]))"
   ]
  },
  {
   "cell_type": "code",
   "execution_count": 46,
   "metadata": {},
   "outputs": [],
   "source": [
    "from sklearn.metrics import accuracy_score\n",
    "from sklearn.metrics import precision_score\n",
    "from sklearn.metrics import recall_score"
   ]
  },
  {
   "cell_type": "code",
   "execution_count": 47,
   "metadata": {},
   "outputs": [
    {
     "name": "stdout",
     "output_type": "stream",
     "text": [
      "279/279 [==============================] - 192s 672ms/step\n"
     ]
    }
   ],
   "source": [
    "y_hat = model.predict(x_test)\n",
    "y_pred = np.argmax(y_hat, axis=1)\n",
    "y_test_label =  np.argmax(Y_test, axis=1)"
   ]
  },
  {
   "cell_type": "code",
   "execution_count": 48,
   "metadata": {},
   "outputs": [
    {
     "name": "stdout",
     "output_type": "stream",
     "text": [
      "Accuracy: 0.871778\n",
      "Precision: 0.870109\n",
      "Recall: 0.873029\n"
     ]
    }
   ],
   "source": [
    "accuracy = accuracy_score(y_test_label, y_pred)\n",
    "print('Accuracy: %f' % accuracy)\n",
    "# Tính precision tp / (tp + fp)\n",
    "precision = precision_score(y_test_label, y_pred, average='macro')\n",
    "print('Precision: %f' % precision)\n",
    "# Tính recall: tp / (tp + fn)\n",
    "recall = recall_score(y_test_label, y_pred, average='macro')\n",
    "print('Recall: %f' % recall)"
   ]
  },
  {
   "cell_type": "code",
   "execution_count": 37,
   "metadata": {},
   "outputs": [],
   "source": [
    "b='Xây cầu vượt phá Tam Giang hơn 1.000 tỷ đồng , Dự án cầu vượt phá Tam Giang với tổng mức đầu tư hơn 1.000 tỷ đồng được HĐND tỉnh Thừa Thiên Huế thông qua, chiều 29/6. Cầu nối thị trấn Phú Đa với xã Vinh Xuân, huyện Phú Vang có chiều dài toàn tuyến khoảng 3km gồm: cầu qua phá Tam Giang dài khoảng 1,4km và đường dẫn hai đầu cầu dài khoảng 1,6km. Dự kiến dự án khởi công năm 2024 và hoàn thành sau bốn năm.Theo tờ trình của UBND tỉnh, dự án góp phần hoàn thiện mạng lưới giao thông chính trong khu vực, tạo động lực phát triển kinh tế xã hội huyện Phú Vang và các xã ven biển. Hiện từ TP. Huế và thị trấn Phú Đa đi các xã ven biển huyện Phú Vang theo hai hướng tỉnh lộ 10D - tỉnh lộ 18 (qua cầu Trường Hà) và tỉnh lộ 10A - quốc lộ 49A qua cầu Thuận An. Tuy nhiên, tuyến đường hai hướng này nhỏ hẹp, qua khu vực đông dân cư. Việc kết nối giao thông hai bờ Đông - Tây phá Tam Giang không thuận lợi, hiện chỉ có hướng di chuyển qua cầu Trường Hà, ảnh hưởng đến phát triển kinh tế xã hội trong khu vực, đặc biệt là phát triển du lịch biển, đầm phá.Riêng các xã ven biển như Vinh Xuân, Phú Diên... đi đến UBND huyện Phú Vang khoảng 15km, trong khi đó theo đường thẳng qua phá Tam Giang chỉ khoảng 3km.Hệ đầm phá Tam Giang – Cầu Hai trải dài 68 km đi qua huyện Phong Điền, Quảng Điền, TP Huế, huyện Phú Vang và huyện Phú Lộc. Đây là hệ đầm phá nước lợ lớn nhất khu vực Đông Nam Á với hệ sinh thái thủy sản phong phú.Toàn tỉnh Thừa Thiên Huế hiện có 5 cây cầu bắc qua phá Tam Giang - Cầu Hai gồm cầu Tam Giang, cầu Thuận An, cầu Trường Hà, cầu Đại Lộc và cầu Tư Hiền'"
   ]
  },
  {
   "cell_type": "code",
   "execution_count": 38,
   "metadata": {},
   "outputs": [
    {
     "name": "stdout",
     "output_type": "stream",
     "text": [
      "68/68 [==============================] - 42s 619ms/step\n",
      "[[0.06637856 0.0119971  0.00337463 ... 0.01719722 0.37677568 0.4468723 ]\n",
      " [0.06637856 0.0119971  0.00337463 ... 0.01719722 0.37677568 0.4468723 ]\n",
      " [0.06637856 0.0119971  0.00337463 ... 0.01719722 0.37677568 0.4468723 ]\n",
      " ...\n",
      " [0.06637857 0.01199711 0.00337464 ... 0.01719723 0.37677583 0.44687214]\n",
      " [0.06868286 0.01186414 0.00337397 ... 0.01689547 0.36146274 0.45674196]\n",
      " [0.06637857 0.01199711 0.00337464 ... 0.01719723 0.37677583 0.44687214]]\n",
      "4359\n"
     ]
    },
    {
     "ename": "IndexError",
     "evalue": "list index out of range",
     "output_type": "error",
     "traceback": [
      "\u001b[1;31m---------------------------------------------------------------------------\u001b[0m",
      "\u001b[1;31mIndexError\u001b[0m                                Traceback (most recent call last)",
      "Cell \u001b[1;32mIn[38], line 19\u001b[0m\n\u001b[0;32m     17\u001b[0m \u001b[39mprint\u001b[39m(pred)\n\u001b[0;32m     18\u001b[0m \u001b[39mprint\u001b[39m(np\u001b[39m.\u001b[39margmax(pred))\n\u001b[1;32m---> 19\u001b[0m \u001b[39mprint\u001b[39m(labels[np\u001b[39m.\u001b[39;49margmax(pred)])\n",
      "\u001b[1;31mIndexError\u001b[0m: list index out of range"
     ]
    }
   ],
   "source": [
    "import gensim\n",
    "from pyvi import ViTokenizer, ViPosTagger\n",
    "a = ['Hai cầu nối Khu đô thị mới Thủ Thiêm có tên mới','Địa danh Ba Son và Thủ Thiêm được đặt tên cho hai cầu vượt sông Sài Gòn nối trung tâm thành phố với Khu đô thị Thủ Thiêm, sáng 14/6.',\n",
    "'Cầu Thủ Thiêm 2 kết nối đường Tôn Đức Thắng (quận 1) đến khu đô thị mới được đặt tên Ba Son. Đây là công trình biểu tượng của TP HCM, khánh thành hồi tháng 4 năm ngoái với tổng vốn gần 3.100 tỷ đồng - kinh phí lớn nhất trong các cầu tại thành phố tính đến nay. Cầu dài gần 1,5 km, 6 làn xe, thiết kế dây văng với trụ tháp chính nghiêng về Thủ Thiêm, tạo điểm nhấn kiến trúc nổi bật trên sông Sài Gòn.','Còn cầu Thủ Thiêm 1 nối đường Ngô Tất Tố, Nguyễn Hữu Cảnh (quận Bình Thạnh) đến tuyến Nguyễn Cơ Thạch trong Khu đô thị Thủ Thiêm, được đổi tên lại thành Thủ Thiêm. Công trình này đã đưa vào khai thác từ năm 2008 với chiều dài hơn 1,2 km, 6 làn xe, tổng kinh phí đầu tư hơn 1.000 tỷ đồng.','Tên mới của hai cầu được HĐND TP HCM thông qua hồi tháng 12 năm ngoái. Theo Sở Văn hoá và Thể thao, Thủ Thiêm là tên gọi xuất hiện từ thế kỷ 18, đến nay địa danh này thuộc TP Thủ Đức. Thủ là đồn canh dưới thời phong kiến và cũng chỉ chức vụ đứng đầu một tổ chức hay đơn vị hành chính. Có thể người chỉ huy đồn binh tên Thêm nên dân gian quen gọi thành Thủ Thiêm.','Còn Ba Son là tên gọi từ năm 1790 khi chúa Nguyễn Ánh đặt trại thủy quân và xây dựng \"xưởng thủy\" bên bờ sông Sài Gòn. Ba Son được xem là cái nôi của ngành công nghiệp đóng và sửa chữa tàu thuỷ Việt Nam. Nơi đây trở thành phần quan trọng trong lịch sử đấu tranh giành độc lập dân tộc của Sài Gòn - TP HCM, gắn liền cuộc đời hoạt động của Chủ tịch Tôn Đức Thắng.','Phó chủ tịch UBND thành phố Dương Anh Đức cho biết việc sử dụng các tên gọi này cho hai cầu có ý nghĩa giáo dục truyền thống lịch sử, tạo sức hút thu hút đầu tư để thành phố sớm hoàn thành mục tiêu xây dựng Khu đô thị mới Thủ Thiêm. Các đơn vị liên quan cần làm tốt duy tu, bảo trì để hai công trình trở thành điểm nhấn cảnh quan đô thị của thành phố.','Theo quy hoạch, có 4 cây cầu và một hầm kết nối Khu đô thị mới Thủ Thiêm với trung tâm thành phố. Ngoài cầu Thủ Thiêm và Ba Son, hầm vượt sông Sài Gòn trên đại lộ Đông Tây nối quận 1 với khu đô thị này đã đưa vào khai thác cách đây 12 năm. Hai cầu còn lại gồm Thủ Thiêm 3 (nối quận 4) và Thủ Thiêm 4 (nối quận 7) chưa được đầu tư.']\n",
    "text = []\n",
    "for i in a:\n",
    "    lines = gensim.utils.simple_preprocess(i)\n",
    "    lines = ' '.join(lines)\n",
    "    lines = ViTokenizer.tokenize(lines)\n",
    "    text.append(lines)\n",
    "text1 = ' '.join(text)\n",
    "encd_rev1 = tok.texts_to_sequences(text1)\n",
    "padded = pad_sequences(encd_rev1, maxlen=400)\n",
    "pred = model.predict(padded)\n",
    "#labels = ['sport', 'bussiness', 'politics', 'tech', 'entertainment'] \n",
    "labels = ['Chinhtrixahoi','Doisong','Giaitri','Khoahoc','Kinhdoanh','Phapluat','So hoa','Suckhoe','Thegioi','Thethao']\n",
    "print(pred)\n",
    "print(np.argmax(pred))\n",
    "print(labels[np.argmax(pred)])"
   ]
  },
  {
   "cell_type": "code",
   "execution_count": null,
   "metadata": {},
   "outputs": [
    {
     "data": {
      "text/plain": [
       "(2159, 10)"
      ]
     },
     "execution_count": 56,
     "metadata": {},
     "output_type": "execute_result"
    }
   ],
   "source": [
    "pred.shape"
   ]
  },
  {
   "cell_type": "code",
   "execution_count": 41,
   "metadata": {},
   "outputs": [],
   "source": [
    "from matplotlib import pyplot as plt"
   ]
  },
  {
   "cell_type": "code",
   "execution_count": 49,
   "metadata": {},
   "outputs": [
    {
     "name": "stdout",
     "output_type": "stream",
     "text": [
      "dict_keys(['loss', 'accuracy', 'val_loss', 'val_accuracy'])\n"
     ]
    },
    {
     "data": {
      "image/png": "[encoded data removed]",
      "text/plain": [
       "<Figure size 640x480 with 1 Axes>"
      ]
     },
     "metadata": {},
     "output_type": "display_data"
    },
    {
     "data": {
      "image/png": "[encoded data removed]",
      "text/plain": [
       "<Figure size 640x480 with 1 Axes>"
      ]
     },
     "metadata": {},
     "output_type": "display_data"
    }
   ],
   "source": [
    "print(history.history.keys())\n",
    "# summarize history for accuracy\n",
    "plt.plot(history.history['accuracy'])\n",
    "plt.plot(history.history['val_accuracy'])\n",
    "plt.title('model accuracy')\n",
    "plt.ylabel('accuracy')\n",
    "plt.xlabel('epoch')\n",
    "plt.legend(['train', 'val'], loc='upper left')\n",
    "plt.show()\n",
    "# summarize history for loss\n",
    "plt.plot(history.history['loss'])\n",
    "plt.plot(history.history['val_loss'])\n",
    "plt.title('model loss')\n",
    "plt.ylabel('loss')\n",
    "plt.xlabel('epoch')\n",
    "plt.legend(['train', 'val'], loc='upper left')\n",
    "plt.show()"
   ]
  },
  {
   "cell_type": "code",
   "execution_count": null,
   "metadata": {},
   "outputs": [],
   "source": [
    "model.save(\"model_lstm.h5\")"
   ]
  },
  {
   "cell_type": "code",
   "execution_count": null,
   "metadata": {},
   "outputs": [
    {
     "ename": "UnicodeDecodeError",
     "evalue": "'utf-8' codec can't decode byte 0xe1 in position 31: invalid continuation byte",
     "output_type": "error",
     "traceback": [
      "\u001b[1;31m---------------------------------------------------------------------------\u001b[0m",
      "\u001b[1;31mUnicodeDecodeError\u001b[0m                        Traceback (most recent call last)",
      "Cell \u001b[1;32mIn[40], line 3\u001b[0m\n\u001b[0;32m      1\u001b[0m \u001b[39mfrom\u001b[39;00m \u001b[39mkeras\u001b[39;00m\u001b[39m.\u001b[39;00m\u001b[39mmodels\u001b[39;00m \u001b[39mimport\u001b[39;00m load_model\n\u001b[1;32m----> 3\u001b[0m model123 \u001b[39m=\u001b[39m load_model(\u001b[39m'\u001b[39;49m\u001b[39mlstm.h5\u001b[39;49m\u001b[39m'\u001b[39;49m)\n",
      "File \u001b[1;32mc:\\Users\\trghuey\\venv\\lib\\site-packages\\keras\\saving\\saving_api.py:212\u001b[0m, in \u001b[0;36mload_model\u001b[1;34m(filepath, custom_objects, compile, safe_mode, **kwargs)\u001b[0m\n\u001b[0;32m    204\u001b[0m     \u001b[39mreturn\u001b[39;00m saving_lib\u001b[39m.\u001b[39mload_model(\n\u001b[0;32m    205\u001b[0m         filepath,\n\u001b[0;32m    206\u001b[0m         custom_objects\u001b[39m=\u001b[39mcustom_objects,\n\u001b[0;32m    207\u001b[0m         \u001b[39mcompile\u001b[39m\u001b[39m=\u001b[39m\u001b[39mcompile\u001b[39m,\n\u001b[0;32m    208\u001b[0m         safe_mode\u001b[39m=\u001b[39msafe_mode,\n\u001b[0;32m    209\u001b[0m     )\n\u001b[0;32m    211\u001b[0m \u001b[39m# Legacy case.\u001b[39;00m\n\u001b[1;32m--> 212\u001b[0m \u001b[39mreturn\u001b[39;00m legacy_sm_saving_lib\u001b[39m.\u001b[39mload_model(\n\u001b[0;32m    213\u001b[0m     filepath, custom_objects\u001b[39m=\u001b[39mcustom_objects, \u001b[39mcompile\u001b[39m\u001b[39m=\u001b[39m\u001b[39mcompile\u001b[39m, \u001b[39m*\u001b[39m\u001b[39m*\u001b[39mkwargs\n\u001b[0;32m    214\u001b[0m )\n",
      "File \u001b[1;32mc:\\Users\\trghuey\\venv\\lib\\site-packages\\keras\\utils\\traceback_utils.py:70\u001b[0m, in \u001b[0;36mfilter_traceback.<locals>.error_handler\u001b[1;34m(*args, **kwargs)\u001b[0m\n\u001b[0;32m     67\u001b[0m     filtered_tb \u001b[39m=\u001b[39m _process_traceback_frames(e\u001b[39m.\u001b[39m__traceback__)\n\u001b[0;32m     68\u001b[0m     \u001b[39m# To get the full stack trace, call:\u001b[39;00m\n\u001b[0;32m     69\u001b[0m     \u001b[39m# `tf.debugging.disable_traceback_filtering()`\u001b[39;00m\n\u001b[1;32m---> 70\u001b[0m     \u001b[39mraise\u001b[39;00m e\u001b[39m.\u001b[39mwith_traceback(filtered_tb) \u001b[39mfrom\u001b[39;00m \u001b[39mNone\u001b[39m\n\u001b[0;32m     71\u001b[0m \u001b[39mfinally\u001b[39;00m:\n\u001b[0;32m     72\u001b[0m     \u001b[39mdel\u001b[39;00m filtered_tb\n",
      "File \u001b[1;32mc:\\Users\\trghuey\\venv\\lib\\site-packages\\tensorflow\\python\\lib\\io\\file_io.py:703\u001b[0m, in \u001b[0;36mis_directory_v2\u001b[1;34m(path)\u001b[0m\n\u001b[0;32m    694\u001b[0m \u001b[39m\"\"\"Returns whether the path is a directory or not.\u001b[39;00m\n\u001b[0;32m    695\u001b[0m \n\u001b[0;32m    696\u001b[0m \u001b[39mArgs:\u001b[39;00m\n\u001b[1;32m   (...)\u001b[0m\n\u001b[0;32m    700\u001b[0m \u001b[39m  True, if the path is a directory; False otherwise\u001b[39;00m\n\u001b[0;32m    701\u001b[0m \u001b[39m\"\"\"\u001b[39;00m\n\u001b[0;32m    702\u001b[0m \u001b[39mtry\u001b[39;00m:\n\u001b[1;32m--> 703\u001b[0m   \u001b[39mreturn\u001b[39;00m _pywrap_file_io\u001b[39m.\u001b[39mIsDirectory(compat\u001b[39m.\u001b[39mpath_to_bytes(path))\n\u001b[0;32m    704\u001b[0m \u001b[39mexcept\u001b[39;00m errors\u001b[39m.\u001b[39mOpError:\n\u001b[0;32m    705\u001b[0m   \u001b[39mreturn\u001b[39;00m \u001b[39mFalse\u001b[39;00m\n",
      "\u001b[1;31mUnicodeDecodeError\u001b[0m: 'utf-8' codec can't decode byte 0xe1 in position 31: invalid continuation byte"
     ]
    }
   ],
   "source": [
    "from keras.models import load_model\n",
    "\n",
    "model123 = load_model('lstm.h5')"
   ]
  },
  {
   "cell_type": "code",
   "execution_count": null,
   "metadata": {},
   "outputs": [],
   "source": [
    "from keras.models import load_model"
   ]
  },
  {
   "cell_type": "code",
   "execution_count": null,
   "metadata": {},
   "outputs": [],
   "source": []
  },
  {
   "cell_type": "code",
   "execution_count": null,
   "metadata": {},
   "outputs": [],
   "source": [
    "model.evaluate(x_test,y_test)"
   ]
  }
 ],
 "metadata": {
  "kernelspec": {
   "display_name": "venv",
   "language": "python",
   "name": "python3"
  },
  "language_info": {
   "codemirror_mode": {
    "name": "ipython",
    "version": 3
   },
   "file_extension": ".py",
   "mimetype": "text/x-python",
   "name": "python",
   "nbconvert_exporter": "python",
   "pygments_lexer": "ipython3",
   "version": "3.9.13"
  },
  "orig_nbformat": 4
 },
 "nbformat": 4,
 "nbformat_minor": 2
}
